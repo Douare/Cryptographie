{
 "cells": [
  {
   "cell_type": "markdown",
   "metadata": {},
   "source": [
    "# TD 14 "
   ]
  },
  {
   "cell_type": "markdown",
   "metadata": {},
   "source": [
    "### 1. Ecrire une fonction moyenne telle que moyenne( l, b ) calcule la moyenne des valeurs de la liste l. Le calcul estobtenu par division entière si b vaut True et par division standard sinon. Si le second paramètre, optionnel, n'est pas passé àla fonction, le booléen vaut False par défaut."
   ]
  },
  {
   "cell_type": "code",
   "execution_count": 3,
   "metadata": {},
   "outputs": [],
   "source": [
    "def moyenne(l, b = False):\n",
    "    somme = 0\n",
    "    nb_ele = len(l)\n",
    "    \n",
    "    for e in l:\n",
    "        somme += e\n",
    "        \n",
    "    if b == True :\n",
    "        return somme/nb_ele\n",
    "    else:\n",
    "        return somme//nb_ele"
   ]
  },
  {
   "cell_type": "code",
   "execution_count": 6,
   "metadata": {
    "scrolled": true
   },
   "outputs": [
    {
     "name": "stdout",
     "output_type": "stream",
     "text": [
      "1.5\n",
      "1\n"
     ]
    }
   ],
   "source": [
    "print(moyenne([2,1],True))\n",
    "print(moyenne([2,1]))"
   ]
  },
  {
   "cell_type": "markdown",
   "metadata": {},
   "source": [
    "### 2.  Ecrire une fonction mon_enumerate telle que, comme la fonction enumerate de python, mon_enumerate( l )associe, sous forme de paires, aux éléments de la liste l passée en paramètre leurs indices."
   ]
  },
  {
   "cell_type": "code",
   "execution_count": 7,
   "metadata": {},
   "outputs": [],
   "source": [
    "def mon_enumerate(l):\n",
    "    listeRetour = []\n",
    "    for i in range(len(l)):\n",
    "        listeRetour.append((i,l[i]))\n",
    "    return listeRetour"
   ]
  },
  {
   "cell_type": "code",
   "execution_count": 9,
   "metadata": {
    "scrolled": true
   },
   "outputs": [
    {
     "data": {
      "text/plain": [
       "[(0, 0), (1, 1), (2, 2), (3, 3), (4, 4), (5, 5)]"
      ]
     },
     "execution_count": 9,
     "metadata": {},
     "output_type": "execute_result"
    }
   ],
   "source": [
    "mon_enumerate([0,1,2,3,4,5])"
   ]
  },
  {
   "cell_type": "markdown",
   "metadata": {},
   "source": [
    "### 4.  Ecrire une fonction mon_split telle que, comme la fonction str.split de python, mon_split( chaine, c )découpe une chaîne de caractères chaine en plusieurs chaînes de caractères et renvoie le résultat du découpage sousforme de liste. Le découpage est fait autour du caractère c."
   ]
  },
  {
   "cell_type": "code",
   "execution_count": 32,
   "metadata": {},
   "outputs": [],
   "source": [
    "def mon_split(chaine, c):\n",
    "    deb = 0\n",
    "    result = []\n",
    "    for i in range(len(chaine)):\n",
    "        if chaine[i]==c:\n",
    "            result.append(chaine[deb:i])\n",
    "            deb = i\n",
    "        elif i == len(chaine)-1:\n",
    "            result.append(chaine[deb:i+1])\n",
    "    return result"
   ]
  },
  {
   "cell_type": "code",
   "execution_count": 34,
   "metadata": {
    "scrolled": false
   },
   "outputs": [
    {
     "data": {
      "text/plain": [
       "['Bonjour', ' tout', ' le', ' monde']"
      ]
     },
     "execution_count": 34,
     "metadata": {},
     "output_type": "execute_result"
    }
   ],
   "source": [
    "mon_split('Bonjour tout le monde', ' ')"
   ]
  },
  {
   "cell_type": "markdown",
   "metadata": {},
   "source": [
    "### 5.  En utilisant la boucle while (l'instruction break est interdite), écrire une fonction inclus telle que inclus( l1, 12 )renvoie True si tous les éléments de la liste l2 en deuxième argument sont dans la liste l1, renvoie False sinon."
   ]
  },
  {
   "cell_type": "code",
   "execution_count": 37,
   "metadata": {},
   "outputs": [],
   "source": [
    "def inclus(l1,l2):\n",
    "    if len(l2) > len(l1):\n",
    "        return false\n",
    "    \n",
    "    else:        \n",
    "        n=0\n",
    "        inclus=False\n",
    "        while inclus==False and n < len(l1)-1:\n",
    "            pass"
   ]
  },
  {
   "cell_type": "code",
   "execution_count": null,
   "metadata": {},
   "outputs": [],
   "source": []
  }
 ],
 "metadata": {
  "kernelspec": {
   "display_name": "Python 3",
   "language": "python",
   "name": "python3"
  },
  "language_info": {
   "codemirror_mode": {
    "name": "ipython",
    "version": 3
   },
   "file_extension": ".py",
   "mimetype": "text/x-python",
   "name": "python",
   "nbconvert_exporter": "python",
   "pygments_lexer": "ipython3",
   "version": "3.7.3"
  }
 },
 "nbformat": 4,
 "nbformat_minor": 2
}

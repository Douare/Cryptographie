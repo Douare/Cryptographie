{
 "cells": [
  {
   "cell_type": "markdown",
   "metadata": {},
   "source": [
    "##### Douare Juliette, Sag Özgür et Sag Uzay\n",
    "\n",
    "\n",
    "\n",
    "# <center> Challenge de cryptographie</center>"
   ]
  },
  {
   "cell_type": "markdown",
   "metadata": {},
   "source": [
    "\n",
    "## Débutons\n",
    "Pour débuter le challenge de cryptographie, nous avons tout d'abord déchiffré le fichier \"FLQZPL\".\n",
    "Pour cela, nous avons utilisé une fonction de déchiffrement en partant du principe que le fichier avait été chiffré avec la méthode de Vigenère."
   ]
  },
  {
   "cell_type": "code",
   "execution_count": 96,
   "metadata": {},
   "outputs": [],
   "source": [
    "txt1_challenge = \"\"\"Zmlhmsp, Lgimjyg. Tmrpc kgqqgml, qg rmsrcdmgq tmsq j'yaacnrcx, qcpy bc péqmsbpc jc afyjjclec\n",
    "bc apwnpmepynfgc 2019. Bmpélytylr, hc tmsq ynncjcpygq nyp tmrpc lmk bc ambc : Lgimjyg.\n",
    "\n",
    "J'mzhcr bc ac afyjjclec cqr bc béafgddpcp sl kyvgksk bc apwnrmepykkcq amlrclsq bylq ac bénôr egr\n",
    "ydgl b'mzrclgp bcq rmiclq (bcq qsgrcq bc 24 jcrrpcq kyhsqasjcq, nyp cvcknjc QYPQPLBPRPZPJQZPJKCMCJGZ).\n",
    "\n",
    "Jy byrc jgkgrc nmsp rcpkglcp acrrc npckgèpc nyprgc cqr jc kypbg 15 marmzpc 2019 à 23:00 ACQR.\n",
    "\n",
    "À afyosc dmgq osc tmsq mzrclcx sl rmicl, gj dysr clpcegqrpcp acjsg-ag qsp jc ucz à j'ybpcqqc\n",
    "frrnq://nbgamqr.slgt-mpjcylq.dp/apwnrmbk/lgimjyg/. Qsp ac qgrc, tmsq nmstcx ysqqg amlqsjrcp à \n",
    "rmsr kmkclr jy jgqrc bcq rmiclq osc tmsq ytcx béhà clpcegqrpéq yglqg osc jc lmkzpc bc ncpqmllcq\n",
    "osg jcq mlr béamstcpr hsqos'gag.\n",
    "\n",
    "Bc njsq, gj tmsq cqr bckylbé bc bmaskclrcp tmrpc rpytygj bc péqmjsrgml bcq apwnrmepykkcq qsp ac\n",
    "bénôr egr. Gj tmsq qcpy nmqqgzjc bc kcrrpc à hmsp jc bénôr hsqos'à jy byrc jgkgrc. Lmsq tmsq\n",
    "bckylbmlq b'w bénmqcp j'clqckzjc bcq ambcq qmspacq osc tmsq npmbsgqcx nmsp péqmsbpc ac bctmgp,\n",
    "yglqg osc j'clqckzjc bcq dgafgcpq béafgddpéq mzrclsq. Cldgl, gj tmsq dysr rclgp sl hmsplyj :\n",
    "sl slgosc dgafgcp rcvrc bylq jcoscj tmsq béapgtcx, rmicl nyp rmicl, jy békypafc srgjgqéc nmsp \n",
    "péqmsbpc jcq apwnrmepykkcq. Tmsq npclbcx jc rcknq b'glbgoscp nmsp afyosc clrpéc bylq ac dgafgcp\n",
    "rcvrc (lmkké nmqrkmprck cr njyaé à jy pyaglc bs bénôr) jy byrc cr j'fcspc bc afyosc clrpéc. \n",
    "Ac dgafgcp bmgr ncpkcrrpc bc bmaskclrcp jcq msrgjq osc tmsq ytcx srgjgqé, jcq kérfmbcq cr\n",
    "amllygqqylacq bs amspq osc tmsq ytcx cvnjmgrécq. Kcpag b'w glbgoscp ysqqg jcq ncpqmllcq ytca\n",
    "jcqoscjjcq tmsq ytcx amjjyzmpé nmsp péqmsbpc afyosc apwnrmepykkc.\n",
    "\n",
    "Jc dgafgcp nmqrkmprck cqr sl dgafgcp rcvrc nsp, cl ajygp, clambé cl SRD-8. Cl j'yzqclac bc dgafgcp\n",
    "nmqrkmprck, lmsq amlqgbépcpmlq osc tmsq l'ytcx nyq pclbs bc bctmgp. Tmsq glbgoscpcx cl bézsr\n",
    "bc dgafgcp tmq lmkq, npélmkq, kclrgml (GKGQ / KGYEC) yglqg osc lsképm érsbgylr.\n",
    "\n",
    "BYRC JGKGRC BC PCRMSP BS BCTMGP : kypbg 15 marmzpc 2019 à 23:00 ACQR.\n",
    "\n",
    "Nmsp ac bctmgp, gj l'cqr nyq glrcpbgr bc rpytygjjcp à njsqgcspq. Lmsq clamspyecmlq jy amjjyzmpyrgml\n",
    "clrpc érsbgylrq... kygq jc nypryec bc ambc cqr qrpgarckclr glrcpbgr cr b'ysrpc nypr lmsq pérpgzsmlq\n",
    "jc rpytygj cddcarsé cl dmlargml bs lmkzpc bc nyprgagnylrq. Yglqg, jy tyjcsp b'sl rmicl bénclbpy\n",
    "bgpcarckclr bs lmkzpc bc ncpqmllcq osg j'yspmlr mzrcls. Njsq sl rmicl cqr pypc cr njsq gj\n",
    "pynnmprcpy bc nmglrq à qml béamstpcsp.\n",
    "\n",
    "Tmsq ytcx dygr sl npckgcp nyq cl béafgddpylr ac dgafgcp. Nmsp nmspqsgtpc, nmsposmg lc nyq afcpafcp\n",
    "qg acpryglq dgafgcpq mlr éré afgddpéq ytca sl afgddpc kmlm-yjnfyzérgosc ?\n",
    "\n",
    "Qg tmsq, ms j'sl bc tmq yeclrq, érgcx aynrspéq ms rséq, jc Bényprckclr b'Gldmpkyrgosc lgcpygr ytmgp\n",
    "cs amllygqqylac bc tmq yegqqckclrq.\n",
    "\n",
    "Ac kcqqyec q'ysrmbérpsgpy bylq aglo qcamlbcq.\n",
    "\n",
    "Zmllc afylac, Gemp.\"\"\""
   ]
  },
  {
   "cell_type": "markdown",
   "metadata": {},
   "source": [
    "Pour traduire le texte nous avons besoin de quelques fonctions :"
   ]
  },
  {
   "cell_type": "code",
   "execution_count": 97,
   "metadata": {},
   "outputs": [],
   "source": [
    "def tolet(x):\n",
    "    \"transforme l'entier [x] en la [x]ième lettre majuscule (modulo 26)\"\n",
    "    return chr(65+x%26)\n",
    "    \n",
    "def toint(c):\n",
    "    \"tranforme la lettre majuscule [c] en sa position dans l'alphabet (de 0 à 25)\"\n",
    "    return ord(c)-65\n",
    "\n",
    "def shift(c,d):\n",
    "    \"\"\"décale la lettre [c] de k positions dans l'alphabet (modulo 26)\n",
    "     où [k] est la position de la lettre [d] dans l'alphabet\"\"\"\n",
    "    return tolet(toint(c)+toint(d))\n",
    "\n",
    "from unicodedata import normalize\n",
    "\n",
    "def nettoie(m):\n",
    "    \"nettoie la chaîne [m] en ne gardant que les lettres débarassées de leurs accents et passées en majuscules\"\n",
    "    return ''.join([c for c in normalize('NFKD',m).upper().strip() if ord(c)>64 and ord(c)<91])"
   ]
  },
  {
   "cell_type": "code",
   "execution_count": 98,
   "metadata": {},
   "outputs": [
    {
     "data": {
      "text/plain": [
       "'ZMLHMSPLGIMJYGTMRPCKGQQGMLQGRMSRCDMGQTMSQJYAACNRCXQCPYBCPEQMSBPCJCAFYJJCLECBCAPWNPMEPYNFGCBMPELYTYLRHCTMSQYNNCJCPYGQNYPTMRPCLMKBCAMBCLGIMJYGJMZHCRBCACAFYJJCLECCQRBCBEAFGDDPCPSLKYVGKSKBCAPWNRMEPYKKCQAMLRCLSQBYLQACBENOREGRYDGLBMZRCLGPBCQRMICLQBCQQSGRCQBCJCRRPCQKYHSQASJCQNYPCVCKNJCQYPQPLBPRPZPJQZPJKCMCJGZJYBYRCJGKGRCNMSPRCPKGLCPACRRCNPCKGEPCNYPRGCCQRJCKYPBGMARMZPCAACQRAAFYOSCDMGQOSCTMSQMZRCLCXSLRMICLGJDYSRCLPCEGQRPCPACJSGAGQSPJCUCZAJYBPCQQCFRRNQNBGAMQRSLGTMPJCYLQDPAPWNRMBKLGIMJYGQSPACQGRCTMSQNMSTCXYSQQGAMLQSJRCPARMSRKMKCLRJYJGQRCBCQRMICLQOSCTMSQYTCXBEHACLPCEGQRPEQYGLQGOSCJCLMKZPCBCNCPQMLLCQOSGJCQMLRBEAMSTCPRHSQOSGAGBCNJSQGJTMSQCQRBCKYLBEBCBMASKCLRCPTMRPCRPYTYGJBCPEQMJSRGMLBCQAPWNRMEPYKKCQQSPACBENOREGRGJTMSQQCPYNMQQGZJCBCKCRRPCAHMSPJCBENORHSQOSAJYBYRCJGKGRCLMSQTMSQBCKYLBMLQBWBENMQCPJCLQCKZJCBCQAMBCQQMSPACQOSCTMSQNPMBSGQCXNMSPPEQMSBPCACBCTMGPYGLQGOSCJCLQCKZJCBCQDGAFGCPQBEAFGDDPEQMZRCLSQCLDGLGJTMSQDYSRRCLGPSLHMSPLYJSLSLGOSCDGAFGCPRCVRCBYLQJCOSCJTMSQBEAPGTCXRMICLNYPRMICLJYBEKYPAFCSRGJGQECNMSPPEQMSBPCJCQAPWNRMEPYKKCQTMSQNPCLBCXJCRCKNQBGLBGOSCPNMSPAFYOSCCLRPECBYLQACDGAFGCPRCVRCLMKKENMQRKMPRCKCRNJYAEAJYPYAGLCBSBENORJYBYRCCRJFCSPCBCAFYOSCCLRPECACDGAFGCPBMGRNCPKCRRPCBCBMASKCLRCPJCQMSRGJQOSCTMSQYTCXSRGJGQEJCQKERFMBCQCRAMLLYGQQYLACQBSAMSPQOSCTMSQYTCXCVNJMGRECQKCPAGBWGLBGOSCPYSQQGJCQNCPQMLLCQYTCAJCQOSCJJCQTMSQYTCXAMJJYZMPENMSPPEQMSBPCAFYOSCAPWNRMEPYKKCJCDGAFGCPNMQRKMPRCKCQRSLDGAFGCPRCVRCNSPCLAJYGPCLAMBECLSRDCLJYZQCLACBCDGAFGCPNMQRKMPRCKLMSQAMLQGBEPCPMLQOSCTMSQLYTCXNYQPCLBSBCBCTMGPTMSQGLBGOSCPCXCLBEZSRBCDGAFGCPTMQLMKQNPELMKQKCLRGMLGKGQKGYECYGLQGOSCLSKEPMERSBGYLRBYRCJGKGRCBCPCRMSPBSBCTMGPKYPBGMARMZPCAACQRNMSPACBCTMGPGJLCQRNYQGLRCPBGRBCRPYTYGJJCPANJSQGCSPQLMSQCLAMSPYECMLQJYAMJJYZMPYRGMLCLRPCERSBGYLRQKYGQJCNYPRYECBCAMBCCQRQRPGARCKCLRGLRCPBGRCRBYSRPCNYPRLMSQPERPGZSMLQJCRPYTYGJCDDCARSECLDMLARGMLBSLMKZPCBCNYPRGAGNYLRQYGLQGJYTYJCSPBSLRMICLBENCLBPYBGPCARCKCLRBSLMKZPCBCNCPQMLLCQOSGJYSPMLRMZRCLSNJSQSLRMICLCQRPYPCCRNJSQGJPYNNMPRCPYBCNMGLRQAQMLBEAMSTPCSPTMSQYTCXDYGRSLNPCKGCPNYQCLBEAFGDDPYLRACDGAFGCPNMSPNMSPQSGTPCNMSPOSMGLCNYQAFCPAFCPQGACPRYGLQDGAFGCPQMLREREAFGDDPEQYTCASLAFGDDPCKMLMYJNFYZERGOSCQGTMSQMSJSLBCTMQYECLRQERGCXAYNRSPEQMSRSEQJCBENYPRCKCLRBGLDMPKYRGOSCLGCPYGRYTMGPCSAMLLYGQQYLACBCTMQYEGQQCKCLRQACKCQQYECQYSRMBERPSGPYBYLQAGLOQCAMLBCQZMLLCAFYLACGEMP'"
      ]
     },
     "execution_count": 98,
     "metadata": {},
     "output_type": "execute_result"
    }
   ],
   "source": [
    "nettoie(txt1_challenge)"
   ]
  },
  {
   "cell_type": "markdown",
   "metadata": {},
   "source": [
    "<div class=\"alert alert-danger\"> La méthode nettoie fait perdre les données numériques. Pour éviter cela, quelques modifications s'imposent.</div>"
   ]
  },
  {
   "cell_type": "code",
   "execution_count": 99,
   "metadata": {},
   "outputs": [],
   "source": [
    "import numbers\n",
    "def nettoieDoucement(m):\n",
    "    \"nettoie la chaîne [m] en ne gardant que les lettres débarassées de leurs accents et passées en majuscules\"\n",
    "    m = ''.join([c for c in normalize('NFKD',m).upper().strip() if ((ord(c)>47 and ord(c)<58) or (ord(c)>64 and ord(c)<91))])\n",
    "    return m"
   ]
  },
  {
   "cell_type": "code",
   "execution_count": 100,
   "metadata": {},
   "outputs": [
    {
     "data": {
      "text/plain": [
       "'ZMLHMSPLGIMJYGTMRPCKGQQGMLQGRMSRCDMGQTMSQJYAACNRCXQCPYBCPEQMSBPCJCAFYJJCLECBCAPWNPMEPYNFGC2019BMPELYTYLRHCTMSQYNNCJCPYGQNYPTMRPCLMKBCAMBCLGIMJYGJMZHCRBCACAFYJJCLECCQRBCBEAFGDDPCPSLKYVGKSKBCAPWNRMEPYKKCQAMLRCLSQBYLQACBENOREGRYDGLBMZRCLGPBCQRMICLQBCQQSGRCQBC24JCRRPCQKYHSQASJCQNYPCVCKNJCQYPQPLBPRPZPJQZPJKCMCJGZJYBYRCJGKGRCNMSPRCPKGLCPACRRCNPCKGEPCNYPRGCCQRJCKYPBG15MARMZPC2019A2300ACQRAAFYOSCDMGQOSCTMSQMZRCLCXSLRMICLGJDYSRCLPCEGQRPCPACJSGAGQSPJCUCZAJYBPCQQCFRRNQNBGAMQRSLGTMPJCYLQDPAPWNRMBKLGIMJYGQSPACQGRCTMSQNMSTCXYSQQGAMLQSJRCPARMSRKMKCLRJYJGQRCBCQRMICLQOSCTMSQYTCXBEHACLPCEGQRPEQYGLQGOSCJCLMKZPCBCNCPQMLLCQOSGJCQMLRBEAMSTCPRHSQOSGAGBCNJSQGJTMSQCQRBCKYLBEBCBMASKCLRCPTMRPCRPYTYGJBCPEQMJSRGMLBCQAPWNRMEPYKKCQQSPACBENOREGRGJTMSQQCPYNMQQGZJCBCKCRRPCAHMSPJCBENORHSQOSAJYBYRCJGKGRCLMSQTMSQBCKYLBMLQBWBENMQCPJCLQCKZJCBCQAMBCQQMSPACQOSCTMSQNPMBSGQCXNMSPPEQMSBPCACBCTMGPYGLQGOSCJCLQCKZJCBCQDGAFGCPQBEAFGDDPEQMZRCLSQCLDGLGJTMSQDYSRRCLGPSLHMSPLYJSLSLGOSCDGAFGCPRCVRCBYLQJCOSCJTMSQBEAPGTCXRMICLNYPRMICLJYBEKYPAFCSRGJGQECNMSPPEQMSBPCJCQAPWNRMEPYKKCQTMSQNPCLBCXJCRCKNQBGLBGOSCPNMSPAFYOSCCLRPECBYLQACDGAFGCPRCVRCLMKKENMQRKMPRCKCRNJYAEAJYPYAGLCBSBENORJYBYRCCRJFCSPCBCAFYOSCCLRPECACDGAFGCPBMGRNCPKCRRPCBCBMASKCLRCPJCQMSRGJQOSCTMSQYTCXSRGJGQEJCQKERFMBCQCRAMLLYGQQYLACQBSAMSPQOSCTMSQYTCXCVNJMGRECQKCPAGBWGLBGOSCPYSQQGJCQNCPQMLLCQYTCAJCQOSCJJCQTMSQYTCXAMJJYZMPENMSPPEQMSBPCAFYOSCAPWNRMEPYKKCJCDGAFGCPNMQRKMPRCKCQRSLDGAFGCPRCVRCNSPCLAJYGPCLAMBECLSRD8CLJYZQCLACBCDGAFGCPNMQRKMPRCKLMSQAMLQGBEPCPMLQOSCTMSQLYTCXNYQPCLBSBCBCTMGPTMSQGLBGOSCPCXCLBEZSRBCDGAFGCPTMQLMKQNPELMKQKCLRGMLGKGQKGYECYGLQGOSCLSKEPMERSBGYLRBYRCJGKGRCBCPCRMSPBSBCTMGPKYPBG15MARMZPC2019A2300ACQRNMSPACBCTMGPGJLCQRNYQGLRCPBGRBCRPYTYGJJCPANJSQGCSPQLMSQCLAMSPYECMLQJYAMJJYZMPYRGMLCLRPCERSBGYLRQKYGQJCNYPRYECBCAMBCCQRQRPGARCKCLRGLRCPBGRCRBYSRPCNYPRLMSQPERPGZSMLQJCRPYTYGJCDDCARSECLDMLARGMLBSLMKZPCBCNYPRGAGNYLRQYGLQGJYTYJCSPBSLRMICLBENCLBPYBGPCARCKCLRBSLMKZPCBCNCPQMLLCQOSGJYSPMLRMZRCLSNJSQSLRMICLCQRPYPCCRNJSQGJPYNNMPRCPYBCNMGLRQAQMLBEAMSTPCSPTMSQYTCXDYGRSLNPCKGCPNYQCLBEAFGDDPYLRACDGAFGCPNMSPNMSPQSGTPCNMSPOSMGLCNYQAFCPAFCPQGACPRYGLQDGAFGCPQMLREREAFGDDPEQYTCASLAFGDDPCKMLMYJNFYZERGOSCQGTMSQMSJSLBCTMQYECLRQERGCXAYNRSPEQMSRSEQJCBENYPRCKCLRBGLDMPKYRGOSCLGCPYGRYTMGPCSAMLLYGQQYLACBCTMQYEGQQCKCLRQACKCQQYECQYSRMBERPSGPYBYLQAGLOQCAMLBCQZMLLCAFYLACGEMP'"
      ]
     },
     "execution_count": 100,
     "metadata": {},
     "output_type": "execute_result"
    }
   ],
   "source": [
    "nettoieDoucement(txt1_challenge)"
   ]
  },
  {
   "cell_type": "markdown",
   "metadata": {},
   "source": [
    "<div class=\"alert alert-success\"> La méthode nettoieDoucement conserve les chiffres.</div>"
   ]
  },
  {
   "cell_type": "code",
   "execution_count": 101,
   "metadata": {},
   "outputs": [],
   "source": [
    "def calculFreq(texte):\n",
    "    '''Méthode pour calculer la fréquence de chaque caractère'''\n",
    "    freq={}\n",
    "    for x in texte:\n",
    "        freq[x]=freq.get(x,0)+1\n",
    "    return freq\n",
    "\n",
    "def ic(freq):\n",
    "    '''Méthode pour calculer l indice de coïncidence'''\n",
    "    n=0\n",
    "    for cle,valeur in freq.items():\n",
    "        nx=valeur  # nombre d'occurences du caractère x\n",
    "        n=n+nx\n",
    "    #print(n)\n",
    "    if (n == 1 ):\n",
    "        return 0\n",
    "    else :\n",
    "        somme=0\n",
    "        for x in freq:\n",
    "            somme += (freq[x] * (freq[x]-1)) / (n*(n-1))\n",
    "    return somme\n",
    "\n",
    "def trions(tableDeFreqPourTri):\n",
    "    '''Méthode de tri en fonction de l occurrence des lettres'''\n",
    "    l=[(tableDeFreqPourTri[c],c) for c in tableDeFreqPourTri]\n",
    "    l.sort(reverse=True)\n",
    "    return l\n",
    "\n",
    "def extraireSousTextes(m,k):\n",
    "    '''Méthode permettant d'extraire à partir d'un message m les k sous-textes pour une taille de clé k'''\n",
    "    lesTextes = []\n",
    "    for i in range(0,k):\n",
    "        lesTextes.append(\"\")\n",
    "    for i in range(len(m)):\n",
    "        lesTextes[i%k] += m[i]\n",
    "    return lesTextes\n",
    "\n",
    "def calculICMoyen(textes):\n",
    "    resultat = 0.0\n",
    "    for i in range(len(textes)):\n",
    "        freq = calculFreq(textes[i])\n",
    "        resultat += ic(freq)\n",
    "    return resultat / len(textes)\n",
    "\n",
    "def trouveLeE(texte):\n",
    "    tableTrie = trions(calculFreq(texte))\n",
    "    return tableTrie[0][1]\n",
    "\n",
    "def calculerDecalage(texte):    \n",
    "    resultat = (toint(trouveLeE(texte)) - toint(\"E\"))%26\n",
    "    return resultat\n",
    "\n",
    "def calculerDecalages(textes):\n",
    "    resultat = [] \n",
    "    for texte in textes:\n",
    "        resultat.append(calculerDecalage(texte))\n",
    "    return resultat\n",
    "\n",
    "def shift(c,d):\n",
    "    return tolet(toint(c)+toint(d))\n",
    "\n",
    "def constructionCle(decalages):\n",
    "    cle=''\n",
    "    for i in decalages:\n",
    "        cle += tolet(i)\n",
    "    return cle\n",
    "\n",
    "def constructionCleDechiffrement(cle):\n",
    "    cleResultat=''\n",
    "    for i in cle:\n",
    "        cleResultat += tolet(26-toint(i))\n",
    "    return cleResultat"
   ]
  },
  {
   "cell_type": "code",
   "execution_count": 102,
   "metadata": {},
   "outputs": [],
   "source": [
    "def chiffrementVigenere(texteClair,cle):\n",
    "    chiffre =''\n",
    "    n = 0\n",
    "    for i in range (len(texteClair)):\n",
    "        if(ord(texteClair[i])>47 and ord(texteClair[i])<58):\n",
    "             chiffre += texteClair[i]\n",
    "        else:\n",
    "            chiffre += shift(texteClair[i],cle[i%len(cle)])\n",
    "    return chiffre"
   ]
  },
  {
   "cell_type": "code",
   "execution_count": 103,
   "metadata": {},
   "outputs": [],
   "source": [
    "def findKeySizes(m, inc):\n",
    "    '''Méthode qui permet de trouver plusieurs clés possibles.\n",
    "    inc est l incertitude qui permet au texte d être plus ou moins proche de l indice\n",
    "    de coincidence pour la langue française.'''\n",
    "    #texte nettoye\n",
    "    keysIC = {}\n",
    "    for i in range(1,len(m)):\n",
    "        exist = False\n",
    "        listeSousTextes = extraireSousTextes(m,i)\n",
    "        moy = calculICMoyen(listeSousTextes)\n",
    "        if(((0.0778-inc) <= moy) and ((0.0778+inc) >= moy)):\n",
    "            for key,value in keysIC.items():\n",
    "                if(i % key == 0):\n",
    "                    exist = True\n",
    "            if(not(exist)):\n",
    "                keysIC[i] = listeSousTextes\n",
    "    return keysIC"
   ]
  },
  {
   "cell_type": "markdown",
   "metadata": {},
   "source": [
    "Maintenant que nous avons toutes les briques nécessaires, écrivons une méthode de déchiffrement :"
   ]
  },
  {
   "cell_type": "code",
   "execution_count": 104,
   "metadata": {},
   "outputs": [],
   "source": [
    "def dechiffrementVigenere(m, inc = 0.01):\n",
    "    '''Retourne un ensemble de traductions possibles en fonction des différentes clés trouvées.'''\n",
    "    traductions = []\n",
    "    m = nettoieDoucement(m) \n",
    "    keysIC = findKeySizes(m, inc)\n",
    "    for key,value in keysIC.items():\n",
    "        decalages = calculerDecalages(value)\n",
    "        cle = constructionCle(decalages)\n",
    "        cleDec = constructionCleDechiffrement(cle)\n",
    "        traductions.append((cle,chiffrementVigenere(m,cleDec)))\n",
    "    return traductions    "
   ]
  },
  {
   "cell_type": "code",
   "execution_count": 105,
   "metadata": {
    "scrolled": false
   },
   "outputs": [
    {
     "name": "stdout",
     "output_type": "stream",
     "text": [
      "Le nombre de traductions trouvées est 173\n"
     ]
    }
   ],
   "source": [
    "traductions = dechiffrementVigenere(txt1_challenge)\n",
    "print('Le nombre de traductions trouvées est '+str(len(traductions)))"
   ]
  },
  {
   "cell_type": "markdown",
   "metadata": {},
   "source": [
    "<div class=\"alert alert-danger\"> Beaucoup de résultats sont renvoyés à cause de l'incertitude élevée qu'on avait fixé par rapport à l'exemple du TP1. Il faut donc l'ajuster.</div>"
   ]
  },
  {
   "cell_type": "code",
   "execution_count": 106,
   "metadata": {
    "scrolled": true
   },
   "outputs": [
    {
     "data": {
      "text/plain": [
       "[('Y',\n",
       "  'BONJOURNIKOLAIVOTREMISSIONSITOUTEFOISVOUSLACCEPTEZSERADERGSOUDRELECHALLENGEDECRYPROGRAPHIE2019DORGNAVANTJEVOUSAPPELERAISPARVOTRENOMDECODENIKOLAILOBJETDECECHALLENGEESTDEDGCHIFFRERUNMAXIMUMDECRYPTOGRAMMESCONTENUSDANSCEDGPQTGITAFINDOBTENIRDESTOKENSDESSUITESDE24LETTRESMAJUSCULESPAREXEMPLESARSRNDRTRBRLSBRLMEOELIBLADATELIMITEPOURTERMINERCETTEPREMIGREPARTIEESTLEMARDI15OCTOBRE2019C2300CESTCCHAQUEFOISQUEVOUSOBTENEZUNTOKENILFAUTENREGISTRERCELUICISURLEWEBCLADRESSEHTTPSPDICOSTUNIVORLEANSFRCRYPTODMNIKOLAISURCESITEVOUSPOUVEZAUSSICONSULTERCTOUTMOMENTLALISTEDESTOKENSQUEVOUSAVEZDGJCENREGISTRGSAINSIQUELENOMBREDEPERSONNESQUILESONTDGCOUVERTJUSQUICIDEPLUSILVOUSESTDEMANDGDEDOCUMENTERVOTRETRAVAILDERGSOLUTIONDESCRYPTOGRAMMESSURCEDGPQTGITILVOUSSERAPOSSIBLEDEMETTRECJOURLEDGPQTJUSQUCLADATELIMITENOUSVOUSDEMANDONSDYDGPOSERLENSEMBLEDESCODESSOURCESQUEVOUSPRODUISEZPOURRGSOUDRECEDEVOIRAINSIQUELENSEMBLEDESFICHIERSDGCHIFFRGSOBTENUSENFINILVOUSFAUTTENIRUNJOURNALUNUNIQUEFICHIERTEXTEDANSLEQUELVOUSDGCRIVEZTOKENPARTOKENLADGMARCHEUTILISGEPOURRGSOUDRELESCRYPTOGRAMMESVOUSPRENDEZLETEMPSDINDIQUERPOURCHAQUEENTRGEDANSCEFICHIERTEXTENOMMGPOSTMORTEMETPLACGCLARACINEDUDGPQTLADATEETLHEUREDECHAQUEENTRGECEFICHIERDOITPERMETTREDEDOCUMENTERLESOUTILSQUEVOUSAVEZUTILISGLESMGTHODESETCONNAISSANCESDUCOURSQUEVOUSAVEZEXPLOITGESMERCIDYINDIQUERAUSSILESPERSONNESAVECLESQUELLESVOUSAVEZCOLLABORGPOURRGSOUDRECHAQUECRYPTOGRAMMELEFICHIERPOSTMORTEMESTUNFICHIERTEXTEPURENCLAIRENCODGENUTF8ENLABSENCEDEFICHIERPOSTMORTEMNOUSCONSIDGRERONSQUEVOUSNAVEZPASRENDUDEDEVOIRVOUSINDIQUEREZENDGBUTDEFICHIERVOSNOMSPRGNOMSMENTIONIMISMIAGEAINSIQUENUMGROGTUDIANTDATELIMITEDERETOURDUDEVOIRMARDI15OCTOBRE2019C2300CESTPOURCEDEVOIRILNESTPASINTERDITDETRAVAILLERCPLUSIEURSNOUSENCOURAGEONSLACOLLABORATIONENTREGTUDIANTSMAISLEPARTAGEDECODEESTSTRICTEMENTINTERDITETDAUTREPARTNOUSRGTRIBUONSLETRAVAILEFFECTUGENFONCTIONDUNOMBREDEPARTICIPANTSAINSILAVALEURDUNTOKENDGPENDRADIRECTEMENTDUNOMBREDEPERSONNESQUILAURONTOBTENUPLUSUNTOKENESTRAREETPLUSILRAPPORTERADEPOINTSCSONDGCOUVREURVOUSAVEZFAITUNPREMIERPASENDGCHIFFRANTCEFICHIERPOURPOURSUIVREPOURQUOINEPASCHERCHERSICERTAINSFICHIERSONTGTGCHIFFRGSAVECUNCHIFFREMONOALPHABGTIQUESIVOUSOULUNDEVOSAGENTSGTIEZCAPTURGSOUTUGSLEDGPARTEMENTDINFORMATIQUENIERAITAVOIREUCONNAISSANCEDEVOSAGISSEMENTSCEMESSAGESAUTODGTRUIRADANSCINQSECONDESBONNECHANCEIGOR')]"
      ]
     },
     "execution_count": 106,
     "metadata": {},
     "output_type": "execute_result"
    }
   ],
   "source": [
    "dechiffrementVigenere(txt1_challenge, 0.5)"
   ]
  },
  {
   "cell_type": "markdown",
   "metadata": {},
   "source": [
    "<div class=\"alert alert-success\"> Après ajustement de l'incertitude, on obtient une tradution avec la clé Y.</div>"
   ]
  },
  {
   "cell_type": "markdown",
   "metadata": {},
   "source": [
    "Pour conclure sur cette première traduction, il s'agissait d'un chiffrement mono-alphabétique avec la lettre 'Y' et aurait pu être déchiffré en essayant chaque lettre de l'alphabet comme clé.\n",
    "La traduction de ce texte nous indique les consignes à suivre pour le reste du challenge.\n",
    "Nous sommes Nikolai."
   ]
  },
  {
   "cell_type": "markdown",
   "metadata": {},
   "source": [
    "## Intéruption \n",
    "Alors que nous étions en train de travailler ardemment sur le challenge de cryptographie, nous avons été intérompus par un mail de monsieur Frédéric Moal au contenu suivant :"
   ]
  },
  {
   "cell_type": "markdown",
   "metadata": {},
   "source": [
    "<div class=\"alert alert-info\"> Bonjour à tous,\n",
    "\n",
    "à la demande de certains d'entre vous, le bâtiment IIIA sera ouvert\n",
    "jusqu'à 19h demain.\n",
    "\n",
    "Bon challenge à tous,\n",
    "\n",
    "TWF5IHRoZSBmb3JjZSBiZSB3aXRoIHlvdSAh\n",
    "\n",
    "Cordialement,\n",
    "\n",
    "Frédéric Moal</div>"
   ]
  },
  {
   "cell_type": "code",
   "execution_count": 122,
   "metadata": {
    "scrolled": false
   },
   "outputs": [],
   "source": [
    "moal = \"TWF5IHRoZSBmb3JjZSBiZSB3aXRoIHlvdSAh\""
   ]
  },
  {
   "cell_type": "markdown",
   "metadata": {},
   "source": [
    "En vue de la fréquence des lettres, nous pouvons exclure le chiffrage par clé mono-alphabétique.\n",
    "Cela dit, la forme du message ressemble à celle d'un message chiffré par base64. Nous avons donc utilisé une méthode de déchiffrement par base64 sur internet pour valider notre intuition qui s'est avérée être juste. \n",
    "\n",
    "<div class=\"alert alert-success\"> May the force be with you !</div>\n",
    "\n",
    "Notre intuition selon laquelle ce message était un indice pour le challenge s'est, quant à elle, révélée être fausse !"
   ]
  },
  {
   "cell_type": "markdown",
   "metadata": {},
   "source": [
    "## Déchiffrement des bandes son\n",
    "Le déchiffrement de la bande son se fait en inversant son sens. Il a été facile de le déduire grâce aux notes finales qui rappelaient celles du début des autres bandes son."
   ]
  },
  {
   "cell_type": "markdown",
   "metadata": {},
   "source": [
    "<div class=\"alert alert-info\">a1 = \"\"\"30929 50392 81666 11859 10441 07990 26959 32007 75470 57245 90802 20145 15569 \n",
    "75418 49949 28002 53414 71346 79843 99689 29160 69505 75751 12317\"\"\"\n",
    "\n",
    "a2 = \"\"\"30929 50392 85860 71970 28591 62289 85553 81295 27156 40014 82011 40446 68458\n",
    "63676 91387 39144 52254 37880 82407 36427 68418 07611 71915 39053 5\"\"\"\n",
    "\n",
    "a4 = \"\"\"30929 50392 36862 60226 28649 82904 76261 57794 77432 19595 85073 45846 12658\n",
    "36369 07842 74097 48983 22887 00337 13674 82413 66210 61137 44972 14613 92676\"\"\"\n",
    "\n",
    "a5 = \"\"\"30929 50392 81147 73721 90097 63541 56233 82789 61956 47235 98458 49777 64505\n",
    "20083 38032 29471 94461 87884 17157 03187 83302 32805 75256 19485 09957\"\"\"\n",
    "\n",
    "a6 = \"\"\"30929 50392 60918 36246 75561 82962 36276 27794 33662 92529 31168 82231 78958\n",
    "14416 67884 63500 57754 32192 47112 79537 05616 51210 61215 19153 797\"\"\"\n",
    "\n",
    "a7 = \"\"\"30929 50392 55414 74781 29436 16994 62546 67380 26801 41302 90391 46245 15975\n",
    "58888 82013 27026 63059 92072 45961 84868 61652 54275 92474 64167 65312 71176\"\"\"\n",
    "\n",
    "\n",
    "a3 = \"\"\"Le premier bloc de 5 chiffre indice indicatif\n",
    "de l'agent auquel le message est destiné. Le deuxième bloc de 5 chiffres permet \n",
    "à l'agent de sélectionner masque jetable, les chiffres suivant constituent \n",
    "le message chiffré, le message est codé en une suite de chiffre \n",
    "grâce à la table de correspondance puis le masque jetable est additionné filtrage filtre\n",
    "modulo 10 sans retenu.\"\"\"</div>"
   ]
  },
  {
   "cell_type": "markdown",
   "metadata": {},
   "source": [
    "## Déchiffrement de l'image qudgscqyl.lbm\n",
    "En faisant la corrélation entre l'image et l'article \"Première leçon\" du fichier tjt001.hnm, nous avons appris que l'image avait été chiffré avec le chiffrement bilitaire. Ainsi, nous avons pu convertir le code bilitaire en lettres."
   ]
  },
  {
   "cell_type": "code",
   "execution_count": 108,
   "metadata": {},
   "outputs": [],
   "source": [
    "i1 = \"\"\"\n",
    "aaaab baaaa aaaaa baabb abbab aaaba aabaa baaba aaaaa abaaa baaba aaaab abaaa aabaa abbaa baabb abbaa\n",
    "aaaba abbab aaabb aabaa aaaab abaaa ababa abaaa baaba aabaa baaaa aabaa ababa aabaa baaab aaaab abaaa\n",
    "baaba baaab aaabb baabb baaab aabaa aaaba abbab abbaa aaabb ababb aabaa baaab baaab aaaaa aabba aabaa\n",
    "baaab abbab abbaa baaba aaaba abbab aaabb aabaa baaab aabaa abbaa babab abbab baaaa aaaaa baabb baaba\n",
    "abbab aaaba ababa aaaaa baabb aabaa baabb abbab abaaa aaaba abaaa baabb abbaa baaba abbab abaab aabaa\n",
    "abbaa abbaa abaaa abbaa baabb baaab aaaaa baaba aaabb aaaab baaba aaaab ababa ababb baabb baabb ababb\n",
    "aaaab ababa ababa baabb aabba aaabb aabaa aabba\n",
    "\"\"\""
   ]
  },
  {
   "cell_type": "markdown",
   "metadata": {},
   "source": [
    "Selon l'article, ces  groupes de 5 lettres se traduisent comme suit :"
   ]
  },
  {
   "cell_type": "code",
   "execution_count": 109,
   "metadata": {},
   "outputs": [],
   "source": [
    "transi1 = {'aaaaa' : 'A', 'aaaab' : 'B', 'aaaba' : 'C', 'aaabb' : 'D',\n",
    "        'aabaa' : 'E', 'aabab' : 'F', 'aabba' : 'G', 'aabbb' : 'H',\n",
    "        'abaaa' : 'I', 'abaab' : 'K', 'ababa' : 'L', 'ababb' : 'M',\n",
    "        'abbaa' : 'N', 'abbab' : 'O', 'abbba' : 'P', 'abbbb' : 'Q',\n",
    "        'baaaa' : 'R', 'baaab' : 'S', 'baaba' : 'T', 'baabb' : 'U',\n",
    "        'babaa' : 'W', 'babab' : 'X', 'babba' : 'Y', 'babbb' : 'Z'}"
   ]
  },
  {
   "cell_type": "code",
   "execution_count": 110,
   "metadata": {},
   "outputs": [],
   "source": [
    "def dechiffrementBilitere(contenu,trans):\n",
    "    contenu = nettoie(contenu).lower()\n",
    "    morceau = \"\"\n",
    "    msgComplet = \"\"\n",
    "    cpt = 1\n",
    "    for i in contenu:\n",
    "        morceau += i\n",
    "        if ((cpt % 5) == 0):\n",
    "            msgComplet += trans[morceau]\n",
    "            morceau = \"\"\n",
    "        cpt += 1\n",
    "    return msgComplet"
   ]
  },
  {
   "cell_type": "code",
   "execution_count": 111,
   "metadata": {
    "scrolled": true
   },
   "outputs": [
    {
     "data": {
      "text/plain": [
       "'BRAUOCETAITBIENUNCODEBILITERELESBITSDUSECONDMESSAGESONTCODESENXORAUTOCLAUEUOICIUNTOKENNINUSATDBTBLMUUMBLLUGDEG'"
      ]
     },
     "execution_count": 111,
     "metadata": {},
     "output_type": "execute_result"
    }
   ],
   "source": [
    "dechiffrementBilitere(i1, transi1)"
   ]
  },
  {
   "cell_type": "markdown",
   "metadata": {},
   "source": [
    "D'après l'article, les U et V sont confondus."
   ]
  },
  {
   "cell_type": "markdown",
   "metadata": {},
   "source": [
    "<div class=\"alert alert-success\">Bravo c'était bien un code bilitère. Les bits du seconds message sont codés en XOR autoclave. Voici un token : NINUSATDBTBLMUUMBLLUGDEG</div>"
   ]
  },
  {
   "cell_type": "markdown",
   "metadata": {},
   "source": [
    "## Déchiffrement des fichiers du dossier ded\n",
    "En ouvrant le fichier ded, nous pouvons déjà observer que les trois fichiers qu'il contient possèdent des noms chiffrés et une extention \".ded\". On peut émettre l'hypothèse que \"ded\" correspond à \"txt\" par substitution du 't' par 'd' et du 'x' par 'e'."
   ]
  },
  {
   "cell_type": "markdown",
   "metadata": {},
   "source": [
    "### Texte 1\n"
   ]
  },
  {
   "cell_type": "code",
   "execution_count": 200,
   "metadata": {},
   "outputs": [],
   "source": [
    "txt1 = \"OFNU JVOW RXRC BXRG OAPV HGHU YRFE HWHZ HFNW YIZT PTBT YDBV HLJK \"\n",
    "txt1 = nettoie(txt1)"
   ]
  },
  {
   "cell_type": "code",
   "execution_count": 201,
   "metadata": {},
   "outputs": [
    {
     "data": {
      "text/plain": [
       "{'O': 3,\n",
       " 'F': 3,\n",
       " 'N': 2,\n",
       " 'U': 2,\n",
       " 'J': 2,\n",
       " 'V': 3,\n",
       " 'W': 3,\n",
       " 'R': 4,\n",
       " 'X': 2,\n",
       " 'C': 1,\n",
       " 'B': 3,\n",
       " 'G': 2,\n",
       " 'A': 1,\n",
       " 'P': 2,\n",
       " 'H': 6,\n",
       " 'Y': 3,\n",
       " 'E': 1,\n",
       " 'Z': 2,\n",
       " 'I': 1,\n",
       " 'T': 3,\n",
       " 'D': 1,\n",
       " 'L': 1,\n",
       " 'K': 1}"
      ]
     },
     "execution_count": 201,
     "metadata": {},
     "output_type": "execute_result"
    }
   ],
   "source": [
    "calculFreq(txt1)"
   ]
  },
  {
   "cell_type": "code",
   "execution_count": 202,
   "metadata": {},
   "outputs": [],
   "source": [
    "def dechiffrementCesar(cesar,cles = ['A','B','C','D','E','F','G','H','I','J','K','L','M','N','O','P','Q','R','S','T','U','V','W','X','Y','Z']):\n",
    "    cesar = nettoieDoucement(cesar)\n",
    "    dictCesar = {}\n",
    "    msg = \"\"\n",
    "    for cle in cles:\n",
    "        dictCesar[cle] = \"\"    \n",
    "        for j in cesar:\n",
    "            dictCesar[cle] += shift(j,cle)\n",
    "    return dictCesar"
   ]
  },
  {
   "cell_type": "code",
   "execution_count": 203,
   "metadata": {},
   "outputs": [
    {
     "data": {
      "text/plain": [
       "{'A': 'OFNUJVOWRXRCBXRGOAPVHGHUYRFEHWHZHFNWYIZTPTBTYDBVHLJK',\n",
       " 'B': 'PGOVKWPXSYSDCYSHPBQWIHIVZSGFIXIAIGOXZJAUQUCUZECWIMKL',\n",
       " 'C': 'QHPWLXQYTZTEDZTIQCRXJIJWATHGJYJBJHPYAKBVRVDVAFDXJNLM',\n",
       " 'D': 'RIQXMYRZUAUFEAUJRDSYKJKXBUIHKZKCKIQZBLCWSWEWBGEYKOMN',\n",
       " 'E': 'SJRYNZSAVBVGFBVKSETZLKLYCVJILALDLJRACMDXTXFXCHFZLPNO',\n",
       " 'F': 'TKSZOATBWCWHGCWLTFUAMLMZDWKJMBMEMKSBDNEYUYGYDIGAMQOP',\n",
       " 'G': 'ULTAPBUCXDXIHDXMUGVBNMNAEXLKNCNFNLTCEOFZVZHZEJHBNRPQ',\n",
       " 'H': 'VMUBQCVDYEYJIEYNVHWCONOBFYMLODOGOMUDFPGAWAIAFKICOSQR',\n",
       " 'I': 'WNVCRDWEZFZKJFZOWIXDPOPCGZNMPEPHPNVEGQHBXBJBGLJDPTRS',\n",
       " 'J': 'XOWDSEXFAGALKGAPXJYEQPQDHAONQFQIQOWFHRICYCKCHMKEQUST',\n",
       " 'K': 'YPXETFYGBHBMLHBQYKZFRQREIBPORGRJRPXGISJDZDLDINLFRVTU',\n",
       " 'L': 'ZQYFUGZHCICNMICRZLAGSRSFJCQPSHSKSQYHJTKEAEMEJOMGSWUV',\n",
       " 'M': 'ARZGVHAIDJDONJDSAMBHTSTGKDRQTITLTRZIKULFBFNFKPNHTXVW',\n",
       " 'N': 'BSAHWIBJEKEPOKETBNCIUTUHLESRUJUMUSAJLVMGCGOGLQOIUYWX',\n",
       " 'O': 'CTBIXJCKFLFQPLFUCODJVUVIMFTSVKVNVTBKMWNHDHPHMRPJVZXY',\n",
       " 'P': 'DUCJYKDLGMGRQMGVDPEKWVWJNGUTWLWOWUCLNXOIEIQINSQKWAYZ',\n",
       " 'Q': 'EVDKZLEMHNHSRNHWEQFLXWXKOHVUXMXPXVDMOYPJFJRJOTRLXBZA',\n",
       " 'R': 'FWELAMFNIOITSOIXFRGMYXYLPIWVYNYQYWENPZQKGKSKPUSMYCAB',\n",
       " 'S': 'GXFMBNGOJPJUTPJYGSHNZYZMQJXWZOZRZXFOQARLHLTLQVTNZDBC',\n",
       " 'T': 'HYGNCOHPKQKVUQKZHTIOAZANRKYXAPASAYGPRBSMIMUMRWUOAECD',\n",
       " 'U': 'IZHODPIQLRLWVRLAIUJPBABOSLZYBQBTBZHQSCTNJNVNSXVPBFDE',\n",
       " 'V': 'JAIPEQJRMSMXWSMBJVKQCBCPTMAZCRCUCAIRTDUOKOWOTYWQCGEF',\n",
       " 'W': 'KBJQFRKSNTNYXTNCKWLRDCDQUNBADSDVDBJSUEVPLPXPUZXRDHFG',\n",
       " 'X': 'LCKRGSLTOUOZYUODLXMSEDERVOCBETEWECKTVFWQMQYQVAYSEIGH',\n",
       " 'Y': 'MDLSHTMUPVPAZVPEMYNTFEFSWPDCFUFXFDLUWGXRNRZRWBZTFJHI',\n",
       " 'Z': 'NEMTIUNVQWQBAWQFNZOUGFGTXQEDGVGYGEMVXHYSOSASXCAUGKIJ'}"
      ]
     },
     "execution_count": 203,
     "metadata": {},
     "output_type": "execute_result"
    }
   ],
   "source": [
    "dechiffrementCesar(txt1)"
   ]
  },
  {
   "cell_type": "code",
   "execution_count": 204,
   "metadata": {},
   "outputs": [
    {
     "data": {
      "text/plain": [
       "'OFNUJVOWRXRCBXRGOAPVHGHUYRFEHWHZHFNWYIZTPTBTYDBVHLJK'"
      ]
     },
     "execution_count": 204,
     "metadata": {},
     "output_type": "execute_result"
    }
   ],
   "source": [
    "txt1"
   ]
  },
  {
   "cell_type": "code",
   "execution_count": 205,
   "metadata": {},
   "outputs": [],
   "source": [
    "tradtxt1 = txt1.translate(str.maketrans('HRWV','ESTA'))"
   ]
  },
  {
   "cell_type": "code",
   "execution_count": 206,
   "metadata": {},
   "outputs": [
    {
     "data": {
      "text/plain": [
       "'OFNUJAOTSXSCBXSGOAPAEGEUYSFEETEZEFNTYIZTPTBTYDBAELJK'"
      ]
     },
     "execution_count": 206,
     "metadata": {},
     "output_type": "execute_result"
    }
   ],
   "source": [
    "tradtxt1"
   ]
  },
  {
   "cell_type": "markdown",
   "metadata": {},
   "source": [
    "### Texte 2"
   ]
  },
  {
   "cell_type": "code",
   "execution_count": 207,
   "metadata": {},
   "outputs": [],
   "source": [
    "txt2 = \"\"\"CLKB GPKZ LWJS OJLF KZUZ PGBD DGUK LDLS OJWW FLKQ YLSC LPLP LSOJ WWFL PLBD PGBG \n",
    "QCNO QTLD JAUL AULS LSFV NDGM FQPP LYGU KQYL XTJL BPLF JDLC LDGR LBKU JYQB DZLT \n",
    "UDZU DGRL BBNB TBMN BKDK PJUK MMZS DMQQ CWJB ZUDG RLBC LFLK DLZU DLED LLKD HUKD \n",
    "LCQN GUFA ULCJ BZJS LZLS GJBS JZLB SLKG JDJZ LBDJ WJQT CLLD CLKW FLAU LBSL KZQN \n",
    "NQFD JGBZ LKCL DDFL KFQJ KGBB QTCL KNGF DLXS LYJL UEIO JKRV QUHU MLTC GBZA UJWU \n",
    "PLFL PJBJ KSLB SLTG BHGU FPNO LCNK SLDO GPPL LKDC LSGC GBLC PQFS UKYG BWFQ BRJC \n",
    "LKDQ CGFJ MJBL ZLCQ PGBD LLZU BPGU YLPL BDBL GBQX JGDD GRLC PQBB CLNC UKMF GKWQ \n",
    "TFJS QBDZ LPUB JDJG BKLB LUFG NLQC JBDL BDJG BZLC LMUL FQYG BWFQ BRKG BYQK DLLP \n",
    "NJFL JBZU KDFJ LCKJ YGBW FQBR YLBQ JDQO LFJD LFZL SLDD LPQB BLWJ BQBS JLFL JCNG \n",
    "UFFQ JDZL YLBJ FCLK LSGB ZQZG CWOJ DCLF SLKD UBWQ BQDJ AULZ LDLF PJBL QWQJ FLDG \n",
    "PTLF DGUD LKCL KZLP GSFQ DJLK YGDF LPJK KJGB HJPK JYGU KCQS SLND LXLK DZQF FLDL \n",
    "FRLC PQBB LDYG BWFQ BRKJ YGUK PLPL GUCU BZLY GKQM LBDK LDJL XSQN DUFL GUDU LCLZ \n",
    "LNQF DLPL BDZL DQDB JLFQ JDDG UDLN QFDJ SJNQ DJGB QSLK WQJD KSLD DLTQ BZLK QUDG \n",
    "ZLDF UJFQ ZQBK SJBA KLSG BZLK TGBB LSOQ BSLH JPYG JSJG DDGR LCPQ BBCL ZLFB JLFP \n",
    "LPTF LZUB LZVB QKDJ LAUJ QWGU FBJD FGJK MLBL FQDJ GBKL BPUB JDJG BKJC BQNQ KCQJ \n",
    "FKJY JSJL UESL KDUB OGPP LSUC DJYL LDZJ KSFL DJCB QJPL NQKC QNUT CJSJ DLJC QNNF \n",
    "LSJL KQKG CJDU ZLJC YQPL PLQU NQFS NGUF LDFL KLUC SLKD UBPG JBLN QKYF QJPL BDYG \n",
    "JSJW LULP PLGD DGRL CPQB BLCC LLKD ZLSL ZLLL BJCL DQJD DFLK QPGU FLUE ZLCC LLCC \n",
    "LWUD QKKQ KKJB LLDF GJKQ BKQN FLKC LUFP QFJQ MLNQ FQZG CWOJ DCLF LBNL FKGB BLCL \n",
    "BAUL DLAU JKUJ YJDW UDTF LYLL DNQK KQJB QNLF SULR LCPQ BBPL BDJD NGUF KGBW UOFL \n",
    "FAUJ NFLD LEDQ CQCL MJDJ PLZL WLBK LBGU KQCC GBKF LYLJ CCLF ZLYJ LUEK GUYL BJFK \n",
    "SLKD SQGU JDGB LAUJ NLPL BDNO GDGL KDNF LDSJ BBQP GBZL CQNN QFLJ CNOG DGQC QMFQ \n",
    "BZJK KLUF IJCC VHQJ DFGU YLCL NFGH LSDL UFLD CLKU BJWG FPLK LDCL KQSS LKKG JFLK \n",
    "ZJBD LFJL UFHQ JQNN LCLP LKQP JKZQ BKCL DOLQ DFLH LZGJ KSGB BQJD FLCL ZLSG FLDC \n",
    "QPJK LLBK SLBL SJBB QPGB JFQW GUJC CLFS OLXR LCPQ BBZQ BKKL KYJL JCCL KNOG DGKU \n",
    "BLWG JKSO LXCU JLDY GBWF QBRH LYJL BKHU KDLZ LFLS LYGJ FUBF QNNG FDKU FCUJ UBLL \n",
    "AUJN LZLN KVSO JQDF LKQL NCUS OLKG BZGK KJLF PLZJ SQCJ CKKG BDUB QBJP LKNG UFLU \n",
    "ESLK DUBP QFMJ BQCP QBJQ SGZL NFLK KJWL DUBK UHLD QCQN QFQB GJQN KVSO GDJA ULLK \n",
    "DSLU BLTG BBLS OGKL NGUF BGUK GUJL DBGB JCPL KLFQ ZJWW JSJC LZLM QMBL FKQS GBWJ \n",
    "QBSL PQJK KJSQ PQFS OLJC KLFQ NFLY JKJT CLJC QDDL BZDQ YJKJ DLKQ CLDD FLZJ DAUJ \n",
    "CLKD JPNQ DJLB DZLF LBSG BDFL FUBP LPTF LZUP GUYL PLBD BLGB QXJQ PLFJ SQJB KLBK \n",
    "QDJG BBLC SLKD KLBK QDJG BBLC LBKL UCLP LBDZ LUEL CLSD JGBK BGUK QYGB KFLP NGFD \n",
    "LKJL MLKO LFFR LCPQ BBBG DFLN QFDJ FLPN GFDL ZLKN GJBD KNLF KGBB LBLN LUDL PNLS \n",
    "OLFB GDFL QKSL BKJG BLKN LFGB KAUL YGUK QVLX FQJK GBHQ JFQJ KGBH LKQJ KAUL HQJF \n",
    "QJKG BYGU KBQY LXNQ KLBS GFLF LBSG BDFL SLKM LBKY GUKB LCLK SGBB QJKK LXNQ KSGP \n",
    "PLPG JKUF DGUD CLKN CUKH LUBL KJCK UDJC JKLB DCLU FDLD LJCK BLYL UCLB DNCU KLDF \n",
    "LSGP PQBZ LKJC KYLU CLBD SGPP QBZL FJCK YLUC LBDN FLBZ FLBG UKZL YGBK ZGBB LFQU \n",
    "KKJB GUKZ LYGB KFLB ZFLQ SLPG BZLC JBKN JFQD JGBC LPGZ LCLC LSGU FQML DLCC LLKD \n",
    "BGDF LPJK KJGB AULK DSLA UJYG UKNF LBZH QJSF UAUG BLDQ JDKU JYJK YGUK YGUK JBAU \n",
    "JLDL XNGU FDGU DLDB JPNG FDLA UGJG BLKK QJLZ QDDL BDLF QPQY JLHL ZGJK PLPL WJLF \n",
    "HLBL NLUE WQJF LSGB WJQB SLQN LFKG BBLK QUWQ YGUK PGBQ PJHL YGUK ZGJK DGUD UBHG \n",
    "UFCL PGBZ LKLF QDLP GJBZ LYGD FLML BLFG KJDL QUWQ JDOL FFRL CPQB BQYL XYGU KWQJ \n",
    "DCLB LSLK KQJF LDGU DLKD LBGF ZFLH LYGU KQJZ JDPG BQYG SQDZ LYFQ LDFL NFLK LBDC \n",
    "GFKZ LCQK JMBQ DUFL JCFL YJLB DCUB ZJNQ FWQJ DGBQ FFJY LQPG BTUF LQUB LCLN LFZL \n",
    "XNQK ZLYU LHUK AUQC QKJM BQDU FLLB DLBZ USGC GBLC TJLB RQFC HQJT LKGJ BZQJ FWFQ \n",
    "JKCL CJLU OQTJ DULC HLYG UKNF JLPQ HGFF JSOQ FZZU BOJC CPGU YLPL BDBQ XJQP LFJS \n",
    "QJBT JLBY LBUL PQHG FHLY GUKQ DDLB ZQJK SGCG BLCY GBWF QBRS LCQW QJDT JLBC GBMD \n",
    "LPNK AULH LBQJ NQKL UZLY JKJD LZUB SGBW FLFL QPLF JSQJ BYLU JCCL XYGU KQKK LGJF \n",
    "PLFS JPLF SJNG UFYG DFLQ SSUL JCHL BLKU JKNQ KYLB ULBK JPNC LYJK JDLU FHLY LUEL \n",
    "YGAU LFUB NFGT CLPL KLFJ LUEQ OZLA UGJK QMJD JCCL PGUY LPLB DBQX JQPL FJSQ JBLK \n",
    "DLBN LFDL ZLYJ DLKK LCLB GPTF LZLP LPTF LKQS OUDL CLKS QJKK LKKG BDYJ ZLKG BPQB \n",
    "AULZ LWGF SLLD ZLNG UYGJ FJCB GUKP QBAU LUBC LQZL FSLK DNGU FAUG JHLK UJKY LBUL \n",
    "BNLF KGBB LAUL NUJK HLWQ JFLN GUFY GUKQ NNGF DLXB GUKY GDFL LBSG UFQM LPLB DYGD \n",
    "FLLB SGUF QMLP LBDS GCGB LCCL PGUY LPLB DPQB AULZ GFMQ BJKQ DJGB JCWQ UDUB OGPP \n",
    "LAUJ UBJK KLLD AUJF QKKL PTCL AUJN UJKK LCLK MUJZ LFHL SFGJ KLDF LSLD OGPP LCQP \n",
    "QJKH LBVQ FFJY LFQJ NQKK LUCJ CPLW QUDC LKGU DJLB AULB UCQU DFLB QXJQ PLFJ SQJB \n",
    "QFLS UQYQ BDPG JHLZ GJKQ YGJF LDLS OGJK JNQF YGUK HLZG JKFL SLYG JFPL KGFZ FLKZ \n",
    "LYGU KCLM FQBZ SGCG BLCP QFSU KYGB WFQB RSLA ULYG UKPL ZLPQ BZLX HLBL NLUE CGWW \n",
    "FJFA UUBL KLUC LWGJ KQCQ TGBB LNLF KGBB LLDL KYGU KSGU FQML UEPQ HGFG UJHL CLKU \n",
    "JKHL ZGJK LBLD FLKU FZLN UJKQ BKBG UKLP NFUB DGBK CQPL PLDL SOBJ AULN GUFD LKDL \n",
    "FCLS GUFQ MLZU BOGP PLQY LSUB LLNL LOLJ BXYL UJCC LXYG UKGS SUNL FZLC UJYG DFLL \n",
    "NLLG DLXY LKDL LDSF QYQD LFLP GBDL XYGD FLPQ BSOL OLJB XKLF QCQF TJDF LLBW JCLX \n",
    "SQHL YGUK NFJL HLBL PLKU JKHQ PQJK TQDD UQCL NLLS GCGB LCSL BLKD NQKM FQYL YGDF \n",
    "LQND JDUZ LQCL NLLB LKDN QKLB HLUS LKDY GDFL SGUF QMLP LFSJ HLFL YJLB KZQB KPBQ \n",
    "DDLB ZLXP GJJS JRQF CGUJ PGBK JLUF BGUK BGUK WLFG BKWQ SLQZ JKDQ BSLZ UBLL NLLP \n",
    "QJBM QUSO LZLF FJLF LCLZ GKQU NFLP JLFK JMBQ CBGK LNLL KKLD GUSO LFGB DLBC QJFQ \n",
    "UKLS GBZK JMBQ CBGU KNGU FFGB KQDD QAUL FLKD SLTJ LBSC QJFG UJYG DFLL NLLP QHGF \n",
    "JCVQ LNQJ KKLU FKZL MQXL SOJF UFMJ SQCL SLCQ KUWW JDNG UFNF GDLM LFCL KXGB LKYJ \n",
    "DQCL KNGU FLYJ DLFZ LDFL DGUS OLQU SFQB LWQJ DLKS LDDL NQFQ ZLNG UFBL NQKL DFLT \n",
    "CLKK LQUY JKQM LSGP PLSQ YGUK LDLK NFLD PQHG FGUJ NGUF WJBJ FUBO GPPL SGUF QMLU \n",
    "EBLF LSUC LHQP QJKZ LYQB DCQK KQJC CQBD CLSG PTQD ZLTU DLLD WJBJ DQUK JMBQ CZLO \n",
    "LJBX QPGJ BKZU BLTC LKKU FLMF QYLJ CVQU FQAU QDFL QKKQ UDKL DLKY GUKN FLDO QCDL \n",
    "TGBH GUFB LYGU KQKK LVLX NQKA UGJD FGUY LXUB QUDF LTQB SNQF ZGBH QJQD DLBZ USLD \n",
    "DLCU PJLF LDGU DCQN FLKP JZJD FGUY LXUB QUDF LTQB SHLP QKKG JKKU FSLT QBSD GUKC \n",
    "LKHG UFKQ CQPL PLOL UFLQ CCLX NFLB ZFLY GDFL NOGD GQJC CLUF KBGB HLDQ JKJS JCQN \n",
    "FLPJ LFLA UVQD JCZL NCUK JPNG FDQB DUBJ BSGB BUKU FUBT QBSG UUBL KUNL FTLN OGDG \n",
    "MFQN OJLP GJUB JBSG BBUY GUKY GUKN FLBL XNGU FUBM LBJL LYJZ LPPL BDHQ JNLF ZUQK \n",
    "KLXZ LDLP NKSG PPLS QCQC UPJL FLKL BYQQ CCLX TGJF LUBY LFFL LDFL YLBL XZQB KUBL \n",
    "OLUF LHLB QJHQ PQJK FLBS GBDF LZLW LPPL QUKK JPQC LCLY LLZQ BKPQ YJLD FLKT JLBH \n",
    "LNFL BZFQ JPQN OGDG AUQB ZPLP LOQC DLYL UJCC LXYG UKGS SUNL FZLK QTCL KKUF LTFQ \n",
    "YGPQ HGFS LDQJ DDFL KTJL BPLF SJYG UKBQ YLXN QKYL FKLC QPGJ BZFL MGUD DLQC QKQB \n",
    "DLZU PGUY LPLB DBQX JQPL FJSQ JBQB GDFL NQFD JNUJ KHLS GPND LFKU FYGD FLKG UDJL \n",
    "BSGC GBLC BGUK YLFF GBKN CUKD QFZA ULNU JKHL WQJF LNGU FYGU KLBQ DDLB ZQBD HLYL \n",
    "UEYG UKQK KJKD LFQN NFLB ZFLU BPQE JPUP QYGK SGDL KHLY GUZF QJKZ LYLB JFCL YGBW \n",
    "FQBR QPLF JSQJ BSLT QBSB LPLK DNQK NCUK FLKL FYLA UQYG UKPQ JKYG JCQD FGJK OLUF \n",
    "LKAU LHQD DLBZ KSLK GPTF LKCQ NOGD GMFQ NOJL LKDU BLSO GKLJ PNGF DQBD LNGU FYGU \n",
    "KSLK DUBL BQDU FLPG FDLB LTGU MLXN QKZJ DLKP GJYG UKQY LXDG UHGU FKSL DDLS GJWW \n",
    "UFLN GUFA UGJS QBLY GUKN CQJD NQKK JSQY GUKY QDFL KTJL BPQJ KSLB LKDN CUKY FQJP \n",
    "LBDQ UMGU DZUH GUFP GJSQ PLNC QJDA ULYG UKQF FJYL DJCS LKDQ SQUK LZLY GUKH LZGJ \n",
    "KFLB DFLF SOLX PGJL DWQJ FLUB LSFG JEKU FPQN OGDG HLYQ JKYG UKQJ ZLFB GBYG UKLB \n",
    "QYLX QKKL XWQJ DHLB LNLU ENQK FLBD FLFS GPPL SQBL YGUK LBWQ JDLK NQKH LYQJ KYGU \n",
    "KVSG BZUJ FLPQ YGJD UFLL KDHU KDLC QRQF CJCY QQFF JYLF SQKL ZLPG BDLS GPPL BDSQ \n",
    "KLNC JLQO GUJR QFCY LUJC CLXN GFDL FSLS JPLF SJTL QUSG UNPG BDLX HLYG UKLB NFJL \n",
    "HLNF LBZK SQYG UKBQ YLXF JLBQ SFQJ BZFL QUWQ JDGU YGUK ZLNG KLDG BQUC GZLB KDFQ \n",
    "KKLR QFCY GUKQ YLXL BDLB ZUHL BLSG BBQJ KNQK YGDF LBGP HLKU JKUB JBSG BBUB LKDS \n",
    "LNQK IJCC VYQN CQSL FCLS FQBC QTQK QCCU PLCL WLCJ SJDQ DJGB KYGU KLDL KDFL KZGU \n",
    "LLNG UFCQ NOGD GMFQ NOJL HLCL SFGJ FQJA UQBZ HLYL BZFQ JPGB DFQY QJCK GVLX NQDJ \n",
    "LBDL SQWQ JDZL HQUB QBAU LHLD UZJL QCQS QZLP JLZL NOGD GHLB LKQJ KNQK SGPP LBDS \n",
    "LDQJ DZLY GDFL DLPN KPQJ KJCP QFFJ YLZL YGUC GJFF LPNC JFPG BWFJ MGSL BLDQ JDNQ \n",
    "KDFL KZJW WLFL BDZL PGBD LPNK AUQB ZHQJ SGBB UPQW LPPL LCCL LDUZ JQJD CQNO GDGM \n",
    "FQNO JLYF QJPL BDGU JHQJ PLFQ JKYG UKNG KLFU BLAU LKDJ GBQD LCCL HQPQ JKNL BKLQ \n",
    "TQBZ GBBL FNGU FKUJ YFLU BLQU DFLT FQBS OLQT QBZG BBLF PQJB DLBQ BDAU LHVN LBKL \n",
    "LCCL QKLF JLUK LPLB DSGB KJZL FLCL PLDJ LFZL YLBZ LUKL YGUK NCQJ KQBD LXBG BSLK \n",
    "DJBS FGVQ TCLS LPQD JBHL FLMQ FZQJ KCLK QBBG BSLK ZQBK CLHG UFBQ CFLM QFZL XCQA \n",
    "ULCC LHQJ LBDG UFLL YLBZ LUKL SOLX RFLJ MLFA ULCC LSGJ BSJZ LBSL KJYG UKYG UCLX \n",
    "TJLB PLES UKLF HLZG JKNQ FDJF YGUK CLKH LUBL KQYL XDGU HGUF KDLC CLPL BDQW QJFL \n",
    "BGBF LKDL XHLD JLBK QPLE SUKL FNGU FPGB SGPN GFDL PLBD QUNQ FSHL DQJK JPNG KKJT \n",
    "CLGB QNNL CCLS QCLD LPNL FQPL BDQF DJKD JAUL HLBL YGUK LBYL UENQ KHJB KJKD LHLZ \n",
    "GJKY GUKQ YGUL FAUL CAUL SOGK LHLS FGJK AULH LYGU KQJF LSGB BUHQ JDGU HGUF KSFU \n",
    "AULC LKML BKSG BBUK LDQJ LBDW FGJZ KLDJ BQSS LKKJ TCLK PQJK HLYG UKDF GUYL DFLK \n",
    "QSSL KKJT CLPL FSJS LAUL HLKK QJLZ LYGU KZJF LLES UKLX PGJQ CCGQ CCGQ OSLK DDGJ \n",
    "HLDQ JZJD ZLBL NCUK QNNL CLFJ SJBG BHLB LNLU ENQK HLBL NLUE NQKN QFCL FLFJ SHLD \n",
    "QJZJ DAUL DUSG UFQJ KUBF JKAU LBGB SLKD OGFK ZLAU LKDJ GBHL BLKL FQJN QKSO LXPG \n",
    "JHLK UJKK UFCL NGJB DZLN QFDJ FDUP LBDL BZKL FJSB LPLB DFQJ BLNQ KCQZ LZQB KAUL \n",
    "CAUL SOGK LBLY QNQK SQYQ HLZG JKYG UKZL PQBZ LFZL NQFD JFPQ COLU FLUK LPLB DPQJ \n",
    "KAUV QDJC HLNF LWLF LBLN QKLB NQFC LFHL NLUE WQJF LAUL CAUL SOGK LBGB NQFD LXKJ \n",
    "CYGU KNCQ JDHL YGUK LPPL BLQY LSPG JGUJ ZQSS GFZS LKDN LUDL DFLP JLUE QJBK JJCB \n",
    "LZGJ DNQK PLDF GUYL FKLU CLJS JHLB LYGU KLPT LDLF QJNQ KZLN GKLX PGJZ QBKU BFLK \n",
    "DQUF QBDY GUKW LFJL XSQN GUFP GJHL WLFQ JTJL BNCU KBGU KQCC GBKZ JBLF SOLX PGJB \n",
    "GUKN QFCL FGBK ZLYG DFLW UDUF GBPQ ZLPQ BZLZ LSFJ FLUB LQUD GTJG MFQN OJLH QUFQ \n",
    "JTLK GJBZ LNGF DFQJ DKSL KDUB LGWW FLZL PNCG JTJL BKUF ZQBK SLSQ KHLN FLBZ KPLK \n",
    "QNNQ FLJC KYLB LXYG UKQY LXTJ LBZJ BLHL BLPL DQJK NQKQ UDQB DFLM QCLL ZLNU JKCG \n",
    "BMDL PNKN QFCL XPGJ ZLYG DFLH LUBL QPJS LCUJ AUJY GUKQ QNNL CLLL DZGB DYGU KQYL \n",
    "XKJN LUFJ CBVQ NQKM FQBZ SOGK LQZJ FLJC LKDL DUZJ QBDJ CQWQ JDZL KZJK SGUF KQCQ \n",
    "SQZL PJLL DLSF JDZL KQFD JSCL KKUF CLKB LGBQ XJKN GUFG USGB DFLJ CLKD SGBD FLLY \n",
    "JZLP PLBD NQFW GJKH LPLZ LPQB ZLKJ CLKH LUBL KZQU HGUF ZOUJ WGBD CLWW GFDZ LKLN \n",
    "QFLF CLKN FJBS JNLK ZUBQ XJKP LZLS LKQS DLKQ DFGS LKSG PPJK LBKG BBGP NQFZ LKWG \n",
    "UKSL KPJC CJGB KZLP GFDK AUJG BDNF LKAU LSQU KLCQ PGFD ZLBG DFLN QVKK JCKK GBDZ \n",
    "JWWL FLBD KQUH GUFZ OUJN GUFA UGJP GBQP JLKD JCLB ZQBM LFHL ZGUD LAUJ CCLK GJDS \n",
    "LKDK GBJP QMJB QDJG BAUJ CUJH GULZ LKDG UFKH LZGU DLAU JCKG JDYF QJPL BDLB ZQBM \n",
    "LFCL KBQX JKZQ UHGU FZOU JBLK GBDB JZLK MQBM KDLF KBJZ LKNK VSOG NQDO LKSL KGBD \n",
    "ZLKM LBKL BMQM LKYG UKQY LXNL UDLD FLFQ JKGB CLKJ PNCL WQJD ZLBD LBZF LCLP GDBQ \n",
    "XJPL ZGBB LCQS OQJF ZLNG UCLA ULCT LQUN GFDF QJDS LDQJ DPQW LPPL LCCL LKDF QYJK \n",
    "KQBD LLCC LQZU YGUK FLBZ FLOL UFLU KLHL PLKG UYJL BZFQ JZLS LDDL KGJF LLPL FSJH \n",
    "LZGJ KFLB DFLF SOLX PGJN QKAU LKDJ GBYG UKNQ KKLX CQBU JDJS JHLK UJKJ BAUJ LDQY \n",
    "GDFL KUHL DJCK LFQJ DNCU KKQM LAUL YGUK NQKK JLXC QBUJ DJSJ PLFS JOLF FRLC PQBB \n",
    "QYLS SLKB GUYL QUEK JLML KBGU KFLN FLKL BDGB KLBY JFGB ZLCQ SOQP TFLL ESUK LXPG \n",
    "JQKK LVLX YGUK PLFS JQCC GJSJ RQFC HLZG JKYG UKNQ FCLF GUJR LCPQ BBQF LBSG BDFL \n",
    "UBLW JCCL UBLW JCCL AUJL KDSL HLCJ MBGF LJCC QFLB SGBD FLLQ UNQF SLCC LFLN FLKL \n",
    "BDLU BZQB MLFK LCGB YGUK JCKL PTCL CQNN FLSJ LFLC CLNQ KKLC QBUJ DJSJ HLNQ KKLF \n",
    "QJZL PQJB PQDJ BQCG FKAU LCNQ BDJB FLYJ LBKL BQFF JLFL HUKD LCQA ULWQ JDLK YGUK \n",
    "CQHL YGUK QJZL PQBZ LSLA ULYG UKWQ JKJL XCQH LYLU EAUL YGUK PLEN CJAU JLXC QFQJ \n",
    "KGBZ LYGD FLNF LKLB SLJS JHLN FLBQ JKZL KNOG DGKH LBQF FJYQ JKNQ KQZG FPJF HLDQ \n",
    "JKJB AUJL DLQS QUKL ZOJL FLDL ESJD LLNQ FCQN FGNG KJDJ GBAU LYGU KPQY LXWQ JDLH \n",
    "LDQJ KQCC GBML LLDH QYQJ KZLK JPQM LKAU JZLW JCQJ LBDZ QBKP QDLD LHLB LNLB KQJK \n",
    "AUQZ LKSL BZFL NGUF NOGD GMFQ NOJL FSLK JPQM LKFJ LBZL NCUK YGUK NFLB JLXZ LKNO \n",
    "GDGK ZQBK CLBG JFQY LSCL WCQK OGUJ HLBL KQJK JKNQ KTJL BHLN FLBQ JKLB NOGD GSLT \n",
    "UKDL SLDQ JDUB LKKQ JHLY GUCQ JKAU LCQD LDLK GJDK SUCN DLLN QFCQ CUPJ LFLN GUFG \n",
    "TDLB JFZL UEGP TFLK KUFC LYJK QMLQ YLSU BQFF JLFL NCQB SGPN CLDL PLBD BGJF SLDQ \n",
    "JDTL DLZL PQNQ FDFL DGUF BLXY GUKS GUSO LFRQ FCPQ JKOL FFRL CPQB BQCC LXYG UKSG \n",
    "USOL FRQF CFLD GUFB GBKD GUKB GUKS GUSO LFLD GUTC JGBK SLDD LOJK DGJF LQCQ YLBJ \n",
    "FJCK LFQJ DNCU KKQM LZLN FLBZ FLYG KNOG DGKQ CQCU PJLF LZUH GUFO LFFR LCPQ BBYJ \n",
    "DZQB KCLS GBWG FDJC LKDD FLKF JSOL PQHG FDFL KFJS OLTG BHGU FTGB HGUF PGBK JLUF \n",
    "NGUF FJLX YGUK QBBG BSLF PQNF LKLB SLQJ BKJA ULSL CCLZ UPQH GFFJ SOQF ZZUB OJCC \n",
    "GUJP GBKJ LUFN UJKH LYGU KNQF CLFG UJYL UJCC LXPL ESUK LFAU VQDJ CHQJ KUFN FJKC \n",
    "QWJC CLLB DFQJ BZLN FLBZ FLZL KNOG DGKS LDDL BUJD PLFS JLBD FLXG UJRQ FCCL SGCG \n",
    "BLCY GBWF QBRL KDCQ KGBQ KKGS JLQP LFJS QJBC QSSG PNQM BLBG BHLY GUKL BNFJ LZJD \n",
    "LKCL UFZQ DDLB ZFLC QCUP JLFL ZUPQ DJBL KDLE SLND JGBB LCCL ZJDL KCLU FZLN QDJL \n",
    "BDLF UBJB KDQB DRQF CKUJ YLXP GJPQ HGFZ LKGC LZJB DLFF GPNF LYGD FLNL DJDL KLQB \n",
    "SLGB QYQJ DNFL KAUL WJBJ HLYG UKNF LKLB DLWF QUCL JBCJ KDLF YGJS JCLP QHGF FJSO \n",
    "QFZZ UBOJ CCZU NQFD JBLG BQXJ QPLF JSQJ BLBS OQBD LSLK DUBO GBBL UFPL FSJP QHGF \n",
    "AULK DSLA ULYG UKWQ JDLK SQBL YQNQ KSLK DPGB DFQY QJCZ LDLB ZLXY GUKZ GBBL XPGJ \n",
    "SQBG BSGC GBLC ZGBB LXCL PGJC QJKK LXPG JYGU KLEN CJAU LFHL YLUE CQNL CCJS UCLS \n",
    "GCGB LCCQ NLCC JSUC LHLP LBSO QFML YGDF LQNN QFLJ CYGU KBLN GUYL XNQK BLWQ JDLK \n",
    "NQKU BLKS LBLY GUKC LKQY LXNG UFDQ BDHL YGUK LBNF JLDG UDYQ TJLB QDDL BDJG BQRQ \n",
    "FCJC LKDQ YLSY GBWF QBRD GUDL KDCQ AUJL KDSL DDLW LPPL ZLTQ FFQK KLXY GUKZ LCCL \n",
    "GBBL NLUD NQKK LNLF PLDD FLSQ SQBQ QUSU BLJP NGFD QBSL SQCP LXYG UKLD KJPL KLBB \n",
    "LPJK QNNF LBBL BDBG DFLF LCQD JGBS LKNO GDGK YGBD DGUD MQSO LFHL YGUK MQFQ BDJK \n",
    "AULC CLBL ZJFQ FJLB ZLUE ZLSL KMLC UCLK CLBZ GFPJ FGBD CQKL FJBM ULSG BDJL BDCQ \n",
    "BDJZ GDLK JYGB WFQB RYLU DCQN LCCJ SUCL ZGBB LCUJ SQQU FLYG JFOL FFRL CPQB BSLW \n",
    "UDUB NCQJ KJFP QHGF GBKL YGJD CUBZ JCUB ZJDF LKTJ LBNQ FWQJ DBLT GUML XNQK SQWL \n",
    "FQUB LDFL KTLC CLNO GDGC LSJL CLBD GJCL ZLWG BZCQ GUJA UVQD JCDF LKTJ LBJC VQAU \n",
    "LCAU LSOG KLAU JSCG SOLS QZGJ DLDF LCQW JCCL SGPP LBDS QHQJ UBNF LKKL BDJP LBDS \n",
    "LKDU BLLB BLPJ LYGD FLLB BLPJ LUBL QUDF LZLY QBDC LNGF SOLD FLKT JLBN QFWQ JDBL \n",
    "TGUM LXNQ KDFL KTJL BGUJ LBSG FLUB LSLC CLSJ KLFQ NQFW QJDL PJKQ NQFD CLKP LUTC \n",
    "LKCQ NJLS LLKD JZLB DJAU LFLM QFZL SLDD LNOG DGLC CLPG BDFL CQNC QSLZ LSOQ AULP \n",
    "LUTC LSLK DCLP UFSG DLKU ZGUJ CLMF GKNF GTCL PLKL FQCL PUFA UJCQ WQJD DGPT LFQY \n",
    "LSCQ WLBL DFLG BDFG UYLF QCLF LKDL ZLKP LUTC LKJS JZGB LKKQ JLZL DFGU YLFU BLDQ \n",
    "TCLK JPJC QJFL PLFS JRQF CZUC QJDL DZUK USFL HUKD LUBN LUZL KUSF LKJC YGUK NCQJ \n",
    "DPLF SJHL KUJK JPNQ DJLB DLZL ZLYL CGNN LFSL KNOG DGKH LNLB KLAU LCCL KYGU KNCQ \n",
    "JFGB DHLB KUJK KUFH LYGU KFLP LFSJ LSGP PLHL CQJP LGUJ GUJL CCLC GMLS OLXR LCPQ \n",
    "BBGU JZQS SGFZ NQFW QJDS LKDU BMFQ BZKL FYJS LAUL YGUK PLFL BZLX GUJK JYGU KDFG \n",
    "UYLX AUGJ AULS LKGJ DJBW GFPL XPGJ JPPL ZJQD LPLB DZQS SGFZ TJLB PLFS JQUF LYGJ \n",
    "FHQJ NQFC LQKQ NFGN FJLD QJFL LDLC CLQC GULC QNNQ FDLP LBDJ CVQU BLKL PQJB LJCP \n",
    "QPLB DJRL CPQB BPQP LBDJ JCQN FLDL BZUA ULSL DDLW JCCL LDUZ JQJD QCQS QZLP JLZL \n",
    "NUJK UBQB SLKD SLAU LCCL CUJQ ZJDS LKDL CCLA UJQP LBDJ HLYL UEDG UDKQ YGJF KUFL \n",
    "CCLD GUDD FLKT JLBQ YQBD SLKG JFSL KDTJ LBSG PNFJ KGUJ ZQNF LKSL AULH QJYU ZLYG \n",
    "DFLT JGMF QNOJ LCLK NOGD GKNF JKLK QUHG UFZO UJKL FGBD DFLK QZQN DLLK JCQC QJFQ \n",
    "KKGP PLSL KDCL SQKS LKDC LWWL DZLS LKML CUCL KZQB KPBJ CKLF QZQB KUBZ LPJK GPPL \n",
    "JCOQ CCUS JBQD GJFL ZGBD JCBL KGFD JFQA UQYL SCQB DJZG DLQC GFKD GUHG UFKF JLBJ \n",
    "CWQU DWGU JCCL FNQF DGUD HLKU JKKU FZQY GJFF QJKG BQKG BKUH LDGD DGNQ FZGB BLXP \n",
    "GBJB DFUK JGBS LKDU BSQK ZLED FLPL UFML BSLY GDFL WLPP LLKD UBLD FQJD FLKK LSLK \n",
    "DUBL LKNJ GBBL AUJD FQYQ JCCL NGUF CLNQ FDJK GSJQ CZLP GSFQ DLLC CLQS GBDF JTUL \n",
    "WJBQ BSJL FLPL BDLD LSFJ DZLK NQPN OCLD KSGB DFLB GUKC LBJL XYGU KWFQ URLC PQBB \n",
    "BGBB JLXY GUKP QYGJ FQNN LCLU BLTL DLLD UBWG UQCG FKSG PPLB DBJL FCQY LFJD LYGU \n",
    "KLDL KPQC QZLY JGCL BDLD YGKP LDOG ZLKK GBDJ BOUP QJBL KYGU KPLZ LMGU DLXK SODQ \n",
    "MLFY GDFL NJKD GCLD QZGC WSGP NCGD LXYG UKSG BDFL PGJG UJGU BGBG UJLD HLKN LFLA \n",
    "ULHQ PQJK GDDG CQSO LXYG DFLQ FPLL CCLB UJKQ JDQB GDFL SQUK LYGU KCLK QYLX CLWU \n",
    "DUFL DCQM FQBZ LUFZ LSLD DLBQ DJGB KGBD LBDF LSLK PQJB KBVP LDDL XNQK WJBG DDGH \n",
    "QJTL KGJB ZLYG UKPG BWUO FLFL KDUB OGPP LWGF DPGB WUOF LFZG BZLK AULC LYQB KLFQ \n",
    "SOQF MLDU ZLSQ PNLK BGUK ZLYG BKAU JDDL FCLK CJLU EQNF LKQY GJFD GUDF LPJK LBNC \n",
    "QSLG BQPB SGCG BLCH QJDF GUYL AULC AULS OGKL SGPN QMBJ LQLF JLBB LLUF GNQD QPNG \n",
    "BBLQ CGBZ FLKJ CVQU BLKL PQJB LLCC LLKD ZGBS JSJZ LNUJ KKLU CLPL BDUB LKLP QJBL \n",
    "QCCG BKSO LXRL CPQB BJPP LZJQ DLPL BDNQ FZGB BLXP GBJB DFUK JGBG DDGA UVQD JCSG \n",
    "CGBL CSLD DLWJ CCLL KDUB LLKN JGBB LKQP JKKJ GBLD QJDZ LDGU DZLY GJCL FKUF BGKF \n",
    "LCQD JGBK LDZL PLBU JFLH LFLW UKLZ LSGU DLFS LKJZ JGDJ LKHQ JZLK NFLU YLKG DDGL \n",
    "CCLN FLDL BZLD FLLD UZJQ BDLP QJKS LKDW QUEL CCLN FLDL BZLD FLJS JZLN UJKU BQBQ \n",
    "CGFK AULC CLLK DQFF JYLL JCVQ UBLK LPQJ BLLK DSLT JLBY FQJW FQUC LJBG UJSL KDYF \n",
    "QJNQ FSLA UJCK PLZL MGUD LBDC UJLD CLKB QXJK AUJC LBDG UFLB DJCL KDWG ULDK QWGC \n",
    "JLBG UKNL FZFQ DGUK JCWQ UDCQ FFLD LFYG UKBL PQFF LDLF LXNQ KWFQ UCLJ BYGU KBLN \n",
    "GUYL XNQK SLKD SLAU LYGU KSFG VLXH LBKQ JKKU WWJK QPPL BDKU FYGU KSLK DUBS GPNC \n",
    "GDSG BDFL PGJS LKDU BSGP NCGD GUJS LKDU BSGP NCGD YGUK BQFF JYLF LXNC UKQP QFFL \n",
    "DLFY GBWF QBRJ CCLW QCCQ JDLC CLQU FQJD BUJQ PQFL NUDQ DJGB QBGD FLFL NUDQ DJGB \n",
    "LCCL BUJK QJDQ BGDF LSQU KLBG DFLB QDJG BQTL KGJB ZUBB GUYL QUNG UYGJ FZUB MFQB \n",
    "ZCLQ ZLFS QBGB HLYQ JKNF LYLB JFCQ NGCJ SLNQ KKLX PGJC QNGC JSLG UJOL FFGD DGRL \n",
    "CPQB BQCQ NNQF LJCJ CVQL UUBQ SSJZ LBDG UJHL FLKD LJSJ SLSF VNDG MFQP PLBQ NQKL \n",
    "DLSO JWWF LQYL SCLS OJWW FLPL BDZL YJML BLFL \n",
    "\"\"\""
   ]
  },
  {
   "cell_type": "markdown",
   "metadata": {},
   "source": [
    "Nous avons tout d'abord utilisé la méthode dechiffrementVigenere qui n'a pas été concluante sur ce texte. Ce test a volontairement été retiré du notebook en vue de la place qu'il prenait.\n",
    "Observons le texte plus en détail."
   ]
  },
  {
   "cell_type": "code",
   "execution_count": 208,
   "metadata": {},
   "outputs": [
    {
     "data": {
      "text/plain": [
       "[(2296, 'L'),\n",
       " (1064, 'Q'),\n",
       " (1036, 'J'),\n",
       " (1028, 'K'),\n",
       " (1019, 'B'),\n",
       " (940, 'G'),\n",
       " (925, 'F'),\n",
       " (879, 'U'),\n",
       " (876, 'D'),\n",
       " (654, 'C'),\n",
       " (479, 'S'),\n",
       " (459, 'P'),\n",
       " (417, 'N'),\n",
       " (392, 'Z'),\n",
       " (344, 'Y'),\n",
       " (184, 'H'),\n",
       " (154, 'W'),\n",
       " (141, 'O'),\n",
       " (126, 'A'),\n",
       " (118, 'X'),\n",
       " (103, 'M'),\n",
       " (102, 'T'),\n",
       " (47, 'R'),\n",
       " (41, 'E'),\n",
       " (33, 'V'),\n",
       " (3, 'I')]"
      ]
     },
     "execution_count": 208,
     "metadata": {},
     "output_type": "execute_result"
    }
   ],
   "source": [
    "frequencestxt2 = trions(calculFreq(nettoie(txt2)))\n",
    "frequencestxt2"
   ]
  },
  {
   "cell_type": "markdown",
   "metadata": {},
   "source": [
    "En analysant les fréquences, nous pouvons essayer une substitution mono-alphabétique. Nous nous sommes référés au tableau de fréquence des caractères en français (https://fr.wikipedia.org/wiki/Fr%C3%A9quence_d%27apparition_des_lettres_en_fran%C3%A7ais) notamment pour les lettres les plus fréquentes."
   ]
  },
  {
   "cell_type": "code",
   "execution_count": 210,
   "metadata": {},
   "outputs": [
    {
     "data": {
      "text/plain": [
       "'LESNOMSDEFICHIERSDUDMONTTOUSETECHIFFRESAVECLEMEMECHIFFREMENTMONOALPHABETIQUEQUECECRVPTOGRAMMEVOUSAVEZBIENMERITELETOKENSUIVANTDEBUTDUTOKENNPNBNGPNSTSMIUSGGDCTGAALFINDUTOKENLERESTEDUTEXTEESTJUSTELAPOURQUELINDICEDECOINCIDENCESOITIDENTIFIABLEETLESFREQUENCESDAPPARTIONDESLETTRESRAISONNABLESPORTEZCEVIEUXIHISKVAUJUGEBLONDQUIFUMEREMINISCENCEBONJOURMPHELPSCETHOMMEESTLECOLONELMARCUSVONFRANKILESTALORIGINEDELAMONTEEDUNMOUVEMENTNEONAZIOTTOKELMANNLEPLUSGROSFABRICANTDEMUNITIONSENEUROPEALINTENTIONDELEGUERAVONFRANKSONVASTEEMPIREINDUSTRIELSIVONFRANKVENAITAHERITERDECETTEMANNEFINANCIEREILPOURRAITDEVENIRLESECONDADOLFHITLERCESTUNFANATIQUEDETERMINEAFAIRETOMBERTOUTESLESDEMOCRATIESVOTREMISSIONJIMSIVOUSLACCEPTEZESTDARRETERKELMANNETVONFRANKSIVOUSMEMEOULUNDEVOSAGENTSETIEZCAPTUREOUTUELEDEPARTEMENTDETATNIERAITTOUTEPARTICIPATIONACESFAITSCETTEBANDESAUTODETRUIRADANSCINQSECONDESBONNECHANCEJIMVOICIOTTOKELMANNLEDERNIERMEMBREDUNEDVNASTIEQUIAFOURNITROISGENERATIONSENMUNITIONSILNAPASLAIRSIVICIEUXCESTUNHOMMECULTIVEETDISCRETILNAIMEPASLAPUBLICITEILAPPRECIESASOLITUDEILVAMEMEAUPARCPOURETRESEULCESTUNMOINEPASVRAIMENTVOICIFEUEMMEOTTOKELMANNELLEESTDECEDEEENILETAITTRESAMOUREUXDELLEELLEFUTASSASSINEETROISANSAPRESLEURMARIAGEPARADOLFHITLERENPERSONNELENQUETEQUISUIVITFUTBREVEETPASSAINAPERCUEKELMANNMENTITPOURSONFUHRERQUIPRETEXTALALEGITIMEDEFENSENOUSALLONSREVEILLERDEVIEUXSOUVENIRSCESTCAOUITONEQUIPEMENTPHOTOESTPRETCINNAMONDELAPPAREILPHOTOALAGRANDISSEURIILLVJAITROUVELEPROJECTEURETLESUNIFORMESETLESACCESSOIRESDINTERIEURJAIAPPELEMESAMISDANSLETHEATREJEDOISCONNAITRELEDECORETLAMISEENSCENECINNAMONIRAFOUILLERCHEZKELMANNDANSSESVIEILLESPHOTOSUNEFOISCHEZLUIETVONFRANKJEVIENSJUSTEDERECEVOIRUNRAPPORTSURLUIUNEEQUIPEDEPSVCHIATRESAEPLUCHESONDOSSIERMEDICALILSSONTUNANIMESPOUREUXCESTUNMARGINALMANIACODEPRESSIFETUNSUJETALAPARANOIAPSVCHOTIQUEESTCEUNEBONNECHOSEPOURNOUSOUIETNONILMESERADIFFICILEDEGAGNERSACONFIANCEMAISSICAMARCHEILSERAPREVISIBLEILATTENDTAVISITESALETTREDITQUILESTIMPATIENTDERENCONTRERUNMEMBREDUMOUVEMENTNEONAZIAMERICAINSENSATIONNELCESTSENSATIONNELENSEULEMENTDEUXELECTIONSNOUSAVONSREMPORTESIEGESHERRKELMANNNOTREPARTIREMPORTEDESPOINTSPERSONNENEPEUTEMPECHERNOTREASCENSIONESPERONSQUEVOUSAVEZRAISONJAIRAISONJESAISQUEJAIRAISONVOUSNAVEZPASENCORERENCONTRECESGENSVOUSNELESCONNAISSEZPASCOMMEMOISURTOUTLESPLUSJEUNESILSUTILISENTLEURTETEILSNEVEULENTPLUSETRECOMMANDESILSVEULENTCOMMANDERILSVEULENTPRENDRENOUSDEVONSDONNERAUSSINOUSDEVONSRENDREACEMONDELINSPIRATIONLEMODELELECOURAGETELLEESTNOTREMISSIONQUESTCEQUIVOUSPRENDJAICRUQUONETAITSUIVISVOUSVOUSINQUIETEZPOURTOUTETNIMPORTEQUOIONESSAIEDATTENTERAMAVIEJEDOISMEMEFIERJENEPEUXFAIRECONFIANCEAPERSONNESAUFAVOUSMONAMIJEVOUSDOISTOUTUNJOURLEMONDESERATEMOINDEVOTREGENEROSITEAUFAITHERRKELMANNAVEZVOUSFAITLENECESSAIRETOUTESTENORDREJEVOUSAIDITMONAVOCATDEVRAETREPRESENTLORSDELASIGNATUREILREVIENTLUNDIPARFAITONARRIVEAMONBUREAUNELEPERDEZPASDEVUEJUSQUALASIGNATUREENTENDUCOLONELBIENKARLJAIBESOINDAIRFRAISLELIEUHABITUELJEVOUSPRIEMAJORRICHARDDUNHILLMOUVEMENTNAZIAMERICAINBIENVENUEMAJORJEVOUSATTENDAISCOLONELVONFRANKCELAFAITBIENLONGTEMPSQUEJENAIPASEUDEVISITEDUNCONFREREAMERICAINVEUILLEZVOUSASSEOIRMERCIMERCIPOURVOTREACCUEILJENESUISPASVENUENSIMPLEVISITEURJEVEUXEVOQUERUNPROBLEMESERIEUXAHDEQUOISAGITILLEMOUVEMENTNAZIAMERICAINESTENPERTEDEVITESSELENOMBREDEMEMBRESACHUTELESCAISSESSONTVIDESONMANQUEDEFORCEETDEPOUVOIRILNOUSMANQUEUNLEADERCESTPOURQUOIJESUISVENUENPERSONNEQUEPUISJEFAIREPOURVOUSAPPORTEZNOUSVOTREENCOURAGEMENTVOTREENCOURAGEMENTCOLONELLEMOUVEMENTMANQUEDORGANISATIONILFAUTUNHOMMEQUIUNISSEETQUIRASSEMBLEQUIPUISSELESGUIDERJECROISETRECETHOMMELAMAISJENVARRIVERAIPASSEULILMEFAUTLESOUTIENQUENULAUTRENAZIAMERICAINARECUAVANTMOIJEDOISAVOIRETECHOISIPARVOUSJEDOISRECEVOIRMESORDRESDEVOUSLEGRANDCOLONELMARCUSVONFRANKCEQUEVOUSMEDEMANDEZJENEPEUXLOFFRIRQUUNESEULEFOISALABONNEPERSONNEETESVOUSCOURAGEUXMAJOROUIJELESUISJEDOISENETRESURDEPUISANSNOUSEMPRUNTONSLAMEMETECHNIQUEPOURTESTERLECOURAGEDUNHOMMEAVECUNEEPEEHEINZVEUILLEZVOUSOCCUPERDELUIVOTREEPEEOTEZVESTEETCRAVATEREMONTEZVOTREMANCHEHEINZSERALARBITREENFILEZCAJEVOUSPRIEJENEMESUISJAMAISBATTUALEPEECOLONELCENESTPASGRAVEVOTREAPTITUDEALEPEENESTPASENJEUCESTVOTRECOURAGEMERCIJEREVIENSDANSMNATTENDEZMOIICIKARLOUIMONSIEURNOUSNOUSFERONSFACEADISTANCEDUNEEPEEMAINGAUCHEDERRIERELEDOSAUPREMIERSIGNALNOSEPEESSETOUCHERONTENLAIRAUSECONDSIGNALNOUSPOURRONSATTAQUERESTCEBIENCLAIROUIVOTREEPEEMAJORILVAEPAISSEURSDEGAZECHIRURGICALECELASUFFITPOURPROTEGERLESZONESVITALESPOUREVITERDETRETOUCHEAUCRANEFAITESCETTEPARADEPOURNEPASETREBLESSEAUVISAGECOMMECAVOUSETESPRETMAJOROUIPOURFINIRUNHOMMECOURAGEUXNERECULEJAMAISDEVANTLASSAILLANTLECOMBATDEBUTEETFINITAUSIGNALDEHEINZAMOINSDUNEBLESSUREGRAVEILVAURAQUATREASSAUTSETESVOUSPRETHALTEBONJOURNEVOUSASSEVEZPASQUOITROUVEZUNAUTREBANCPARDONJAIATTENDUCETTELUMIERETOUTLAPRESMIDITROUVEZUNAUTREBANCJEMASSOISSURCEBANCTOUSLESJOURSALAMEMEHEUREALLEZPRENDREVOTREPHOTOAILLEURSNONJETAISICILAPREMIEREQUVATILDEPLUSIMPORTANTUNINCONNUSURUNBANCOUUNESUPERBEPHOTOGRAPHIEMOIUNINCONNUVOUSVOUSPRENEZPOURUNGENIEEVIDEMMENTJAIPERDUASSEZDETEMPSCOMMECALALUMIERESENVAALLEZBOIREUNVERREETREVENEZDANSUNEHEUREJENAIJAMAISRENCONTREDEFEMMEAUSSIMALELEVEEDANSMAVIETRESBIENJEPRENDRAIMAPHOTOQUANDMEMEHALTEVEUILLEZVOUSOCCUPERDESABLESSUREBRAVOMAJORCETAITTRESBIENMERCIVOUSNAVEZPASVERSELAMOINDREGOUTTEALASANTEDUMOUVEMENTNAZIAMERICAINANOTREPARTIPUISJECOMPTERSURVOTRESOUTIENCOLONELNOUSVERRONSPLUSTARDQUEPUISJEFAIREPOURVOUSENATTENDANTJEVEUXVOUSASSISTERAPPRENDREUNMAXIMUMAVOSCOTESJEVOUDRAISDEVENIRLEVONFRANKAMERICAINCEBANCNEMESTPASPLUSRESERVEQUAVOUSMAISVOILATROISHEURESQUEJATTENDSCESOMBRESLAPHOTOGRAPHIEESTUNECHOSEIMPORTANTEPOURVOUSCESTUNENATUREMORTENEBOUGEZPASDITESMOIVOUSAVEZTOUJOURSCETTECOIFFUREPOURQUOICANEVOUSPLAITPASSICAVOUSVATRESBIENMAISCENESTPLUSVRAIMENTAUGOUTDUJOURMOICAMEPLAITQUEVOUSARRIVETILCESTACAUSEDEVOUSJEDOISRENTRERCHEZMOIETFAIREUNECROIXSURMAPHOTOJEVAISVOUSAIDERNONVOUSENAVEZASSEZFAITJENEPEUXPASRENTRERCOMMECANEVOUSENFAITESPASJEVAISVOUSVCONDUIREMAVOITUREESTJUSTELAKARLILVAARRIVERCASEDEMONTECOMMENTCASEPLIEAHOUIKARLVEUILLEZPORTERCECIMERCIBEAUCOUPMONTEZJEVOUSENPRIEJEPRENDSCAVOUSNAVEZRIENACRAINDREAUFAITOUVOUSDEPOSETONAULODENSTRASSEKARLVOUSAVEZENTENDUJENECONNAISPASVOTRENOMJESUISUNINCONNUNESTCEPASIILLVVAPLACERLECRANLABASALLUMELEFELICITATIONSVOUSETESTRESDOUEEPOURLAPHOTOGRAPHIEJELECROIRAIQUANDJEVENDRAIMONTRAVAILSOVEZPATIENTECAFAITDEJAUNANQUEJETUDIEALACADEMIEDEPHOTOJENESAISPASCOMMENTCETAITDEVOTRETEMPSMAISILMARRIVEDEVOULOIRREMPLIRMONFRIGOCENETAITPASTRESDIFFERENTDEMONTEMPSQUANDJAICONNUMAFEMMEELLEETUDIAITLAPHOTOGRAPHIEVRAIMENTOUIJAIMERAISVOUSPOSERUNEQUESTIONATELLEJAMAISPENSEABANDONNERPOURSUIVREUNEAUTREBRANCHEABANDONNERMAINTENANTQUEJVPENSEELLEASERIEUSEMENTCONSIDERELEMETIERDEVENDEUSEVOUSPLAISANTEZNONCESTINCROVABLECEMATINJEREGARDAISLESANNONCESDANSLEJOURNALREGARDEZLAQUELLEJAIENTOUREEVENDEUSECHEZKREIGERQUELLECOINCIDENCESIVOUSVOULEZBIENMEXCUSERJEDOISPARTIRVOUSLESJEUNESAVEZTOUJOURSTELLEMENTAFAIRENONRESTEZJETIENSAMEXCUSERPOURMONCOMPORTEMENTAUPARCJETAISIMPOSSIBLEONAPPELLECALETEMPERAMENTARTISTIQUEJENEVOUSENVEUXPASJINSISTEJEDOISVOUSAVOUERQUELQUECHOSEJECROISQUEJEVOUSAIRECONNUJAITOUJOURSCRUQUELESGENSCONNUSETAIENTFROIDSETINACCESSIBLESMAISJEVOUSTROUVETRESACCESSIBLEMERCICEQUEJESSAIEDEVOUSDIREEXCUSEZMOIALLOALLOAHCESTTOIJETAIDITDENEPLUSAPPELERICINONJENEPEUXPASJENEPEUXPASPARLERERICJETAIDITQUETUCOURAISUNRISQUENONCESTHORSDEQUESTIONJENESERAIPASCHEZMOIJESUISSURLEPOINTDEPARTIRTUMENTENDSERICNEMENTRAINEPASLADEDANSQUELQUECHOSENEVAPASCAVAJEDOISVOUSDEMANDERDEPARTIRMALHEUREUSEMENTMAISQUVATILJEPREFERENEPASENPARLERJEPEUXFAIREQUELQUECHOSENONPARTEZSILVOUSPLAITJEVOUSEMMENEAVECMOIOUIDACCORDCESTPEUTETREMIEUXAINSIILNEDOITPASMETROUVERSEULEICIJENEVOUSEMBETERAIPASDEPOSEZMOIDANSUNRESTAURANTVOUSFERIEZCAPOURMOIJEFERAIBIENPLUSNOUSALLONSDINERCHEZMOINOUSPARLERONSDEVOTREFUTURONMADEMANDEDECRIREUNEAUTOBIOGRAPHIEJAURAIBESOINDEPORTRAITSCESTUNEOFFREDEMPLOIBIENSURDANSCECASJEPRENDSMESAPPAREILSVENEZVOUSAVEZBIENDINEJENEMETAISPASAUTANTREGALEEDEPUISLONGTEMPSPARLEZMOIDEVOTREJEUNEAMICELUIQUIVOUSAAPPELEEETDONTVOUSAVEZSIPEURILNVAPASGRANDCHOSEADIREILESTETUDIANTILAFAITDESDISCOURSALACADEMIEETECRITDESARTICLESSURLESNEONAZISPOUROUCONTREILESTCONTREEVIDEMMENTPARFOISJEMEDEMANDESILESJEUNESDAUJOURDHUIFONTLEFFORTDESEPARERLESPRINCIPESDUNAZISMEDECESACTESATROCESCOMMISENSONNOMPARDESFOUSCESMILLIONSDEMORTSQUIONTPRESQUECAUSELAMORTDENOTREPAVSSILSSONTDIFFERENTSAUJOURDHUIPOURQUOIMONAMIESTILENDANGERJEDOUTEQUILLESOITCESTSONIMAGINATIONQUILUIJOUEDESTOURSJEDOUTEQUILSOITVRAIMENTENDANGERLESNAZISDAUJOURDHUINESONTNIDESGANGSTERSNIDESPSVCHOPATHESCESONTDESGENSENGAGESVOUSAVEZPEUTETRERAISONLESIMPLEFAITDENTENDRELEMOTNAZIMEDONNELACHAIRDEPOULEQUELBEAUPORTRAITCETAITMAFEMMEELLEESTRAVISSANTEELLEADUVOUSRENDREHEUREUSEJEMESOUVIENDRAIDECETTESOIREEMERCIJEDOISRENTRERCHEZMOIPASQUESTIONVOUSPASSEZLANUITICIJESUISINQUIETAVOTRESUJETILSERAITPLUSSAGEQUEVOUSPASSIEZLANUITICIMERCIHERRKELMANNAVECCESNOUVEAUXSIEGESNOUSREPRESENTONSENVIRONDELACHAMBREEXCUSEZMOIASSEVEZVOUSMERCIALLOICIKARLJEDOISVOUSPARLEROUIKELMANNARENCONTREUNEFILLEUNEFILLEQUIESTCEJELIGNOREILLARENCONTREEAUPARCELLEREPRESENTEUNDANGERSELONVOUSILSEMBLELAPPRECIERELLEPASSELANUITICIJEPASSERAIDEMAINMATINALORSQUELPANTINREVIENSENARRIEREJUSTELAQUEFAITESVOUSLAJEVOUSAIDEMANDECEQUEVOUSFAISIEZLAJEVEUXQUEVOUSMEXPLIQUIEZLARAISONDEVOTREPRESENCEICIJEPRENAISDESPHOTOSJENARRIVAISPASADORMIRJETAISINQUIETEACAUSEDHIERETEXCITEEPARLAPROPOSITIONQUEVOUSMAVEZFAITEJETAISALLONGEEETJAVAISDESIMAGESQUIDEFILAIENTDANSMATETEJENEPENSAISQUADESCENDREPOURPHOTOGRAPHIERCESIMAGESRIENDEPLUSVOUSPRENIEZDESPHOTOSDANSLENOIRAVECLEFLASHOUIJENESAISISPASBIENJEPRENAISENPHOTOCEBUSTECETAITUNESSAIJEVOULAISQUELATETESOITSCULPTEEPARLALUMIEREPOUROBTENIRDEUXOMBRESSURLEVISAGEAVECUNARRIEREPLANCOMPLETEMENTNOIRCETAITBETEDEMAPARTRETOURNEZVOUSCOUCHERKARLMAISHERRKELMANNALLEZVOUSCOUCHERKARLRETOURNONSTOUSNOUSCOUCHERETOUBLIONSCETTEHISTOIREALAVENIRILSERAITPLUSSAGEDEPRENDREVOSPHOTOSALALUMIEREDUJOURHERRKELMANNVITDANSLECONFORTILESTTRESRICHEMAJORTRESRICHEBONJOURBONJOURMONSIEURPOURRIEZVOUSANNONCERMAPRESENCEAINSIQUECELLEDUMAJORRICHARDDUNHILLOUIMONSIEURPUISJEVOUSPARLEROUIVEUILLEZMEXCUSERQUVATILJAISURPRISLAFILLEENTRAINDEPRENDREDESPHOTOSCETTENUITMERCIENTREZOUIKARLLECOLONELVONFRANKESTLASONASSOCIEAMERICAINLACCOMPAGNENONJEVOUSENPRIEDITESLEURDATTENDRELALUMIEREDUMATINESTEXCEPTIONNELLEDITESLEURDEPATIENTERUNINSTANTKARLSUIVEZMOIMAJORDESOLEDINTERROMPREVOTREPETITESEANCEONAVAITPRESQUEFINIJEVOUSPRESENTEFRAULEINLISTERVOICILEMAJORRICHARDDUNHILLDUPARTINEONAZIAMERICAINENCHANTECESTUNHONNEURMERCIMAJORQUESTCEQUEVOUSFAITESCANEVAPASCESTMONTRAVAILDETENDEZVOUSDONNEZMOICANONCOLONELDONNEZLEMOILAISSEZMOIVOUSEXPLIQUERJEVEUXLAPELLICULECOLONELLAPELLICULEJEMENCHARGEVOTREAPPAREILVOUSNEPOUVEZPASNEFAITESPASUNESCENEVOUSLESAVEZPOURTANTJEVOUSENPRIETOUTVABIENATTENTIONAKARLILESTAVECVONFRANKTOUTESTLAQUIESTCETTEFEMMEDEBARRASSEZVOUSDELLEONNEPEUTPASSEPERMETTRECACANAAUCUNEIMPORTANCECALMEZVOUSETSIMESENNEMISAPPRENNENTNOTRERELATIONCESPHOTOSVONTTOUTGACHERJEVOUSGARANTISQUELLENEDIRARIENDEUXDECESGELULESLENDORMIRONTLASERINGUECONTIENTLANTIDOTESIVONFRANKVEUTLAPELLICULEDONNELUICAAUREVOIRHERRKELMANNCEFUTUNPLAISIRMAJORONSEVOITLUNDILUNDITRESBIENPARFAITNEBOUGEZPASCAFERAUNETRESBELLEPHOTOLECIELENTOILEDEFONDLAOUIQUVATILTRESBIENILVAQUELQUECHOSEQUICLOCHECADOITETRELAFILLECOMMENTCAJAIUNPRESSENTIMENTCESTUNEENNEMIEVOTREENNEMIEUNEAUTREDEVANTLEPORCHETRESBIENPARFAITNEBOUGEZPASTRESBIENOUIENCOREUNECELLECISERAPARFAITEMISAPARTLESMEUBLESLAPIECEESTIDENTIQUEREGARDECETTEPHOTOELLEMONTRELAPLACEDECHAQUEMEUBLECESTLEMURCOTESUDOUILEGROSPROBLEMESERALEMURQUILAFAITTOMBERAVECLAFENETREONTROUVERALERESTEDESMEUBLESICIDONESSAIEDETROUVERUNETABLESIMILAIREMERCIKARLDULAITETDUSUCREJUSTEUNPEUDESUCRESILVOUSPLAITMERCIJESUISIMPATIENTEDEDEVELOPPERCESPHOTOSJEPENSEQUELLESVOUSPLAIRONTJENSUISSURJEVOUSREMERCIECOMMEJELAIMEOUIOUIELLELOGECHEZKELMANNOUIDACCORDPARFAITCESTUNGRANDSERVICEQUEVOUSMERENDEZOUISIVOUSTROUVEZQUOIQUECESOITINFORMEZMOIIMMEDIATEMENTDACCORDBIENMERCIAUREVOIRJAIPARLEASAPROPRIETAIREETELLEALOUELAPPARTEMENTILVAUNESEMAINEILMAMENTIKELMANNMAMENTIILAPRETENDUQUECETTEFILLEETUDIAITALACADEMIEDEPUISUNANCESTCEQUELLELUIADITCESTELLEQUIAMENTIJEVEUXTOUTSAVOIRSURELLETOUTTRESBIENAVANTCESOIRCESTBIENCOMPRISOUIDAPRESCEQUEJAIVUDEVOTREBIOGRAPHIELESPHOTOSPRISESAUJOURDHUISERONTTRESADAPTEESILALAIRASSOMMECESTLECASCESTLEFFETDECESGELULESDANSMNILSERADANSUNDEMISOMMEILHALLUCINATOIREDONTILNESORTIRAQUAVECLANTIDOTEALORSTOUJOURSRIENILFAUTFOUILLERPARTOUTJESUISSURDAVOIRRAISONASONSUJETOTTOPARDONNEZMONINTRUSIONCESTUNCASDEXTREMEURGENCEVOTREFEMMEESTUNETRAITRESSECESTUNEESPIONNEQUITRAVAILLEPOURLEPARTISOCIALDEMOCRATEELLEACONTRIBUEFINANCIEREMENTETECRITDESPAMPHLETSCONTRENOUSLENIEZVOUSFRAUKELMANNNONNIEZVOUSMAVOIRAPPELEUNEBETEETUNFOUALORSCOMMENTNIERLAVERITEVOUSETESMALADEVIOLENTETVOSMETHODESSONTINHUMAINESVOUSMEDEGOUTEZSCHTAGERVOTREPISTOLETADOLFCOMPLOTEZVOUSCONTREMOIOUIOUNONOUIETJESPEREQUEJAMAISOTTOLACHEZVOTREARMEELLENUISAITANOTRECAUSEVOUSLESAVEZLEFUTURETLAGRANDEURDECETTENATIONSONTENTRECESMAINSNVMETTEZPASFINOTTOJAIBESOINDEVOUSMONFUHRERESTUNHOMMEFORTMONFUHRERDONDESQUELEVANSERACHARGETUDECAMPESNOUSDEVONSQUITTERLESLIEUXAPRESAVOIRTOUTREMISENPLACEONAMNCOLONELJAITROUVEQUELQUECHOSECOMPAGNIEAERIENNEEUROPATAMPONNEALONDRESILVAUNESEMAINEELLEESTDONCICIDEPUISSEULEMENTUNESEMAINEALLONSCHEZKELMANNIMMEDIATEMENTPARDONNEZMONINTRUSIONOTTOQUVATILCOLONELCETTEFILLEESTUNEESPIONNESAMISSIONETAITDETOUTDEVOILERSURNOSRELATIONSETDEMENUIREJEREFUSEDECOUTERCESIDIOTIESJAIDESPREUVESOTTOELLEPRETENDETREETUDIANTEMAISCESTFAUXELLEPRETENDETREICIDEPUISUNANALORSQUELLEESTARRIVEEILVAUNESEMAINEESTCEBIENVRAIFRAULEINOUICESTVRAIPARCEQUILSMEDEGOUTENTLUIETLESNAZISQUILENTOURENTILESTFOUETSAFOLIENOUSPERDRATOUSILFAUTLARRETERVOUSNEMARRETEREZPASFRAULEINVOUSNEPOUVEZPASCESTCEQUEVOUSCROVEZJENSAISSUFFISAMMENTSURVOUSCESTUNCOMPLOTCONTREMOICESTUNCOMPLOTOUICESTUNCOMPLOTVOUSNARRIVEREZPLUSAMARRETERVONFRANKILLEFALLAITELLEAURAITNUIAMAREPUTATIONANOTREREPUTATIONELLENUISAITANOTRECAUSENOTRENATIONABESOINDUNNOUVEAUPOUVOIRDUNGRANDLEADERCANONJEVAISPREVENIRLAPOLICEPASSEZMOILAPOLICEOUIHERROTTOKELMANNALAPPAREILILVAEUUNACCIDENTOUIJERESTEICICECRVPTOGRAMMENAPASETECHIFFREAVECLECHIFFREMENTDEVIGENERE'"
      ]
     },
     "execution_count": 210,
     "metadata": {},
     "output_type": "execute_result"
    }
   ],
   "source": [
    "tradtxt2 = nettoie(txt2).translate(str.maketrans('LQJKBGFDCPZCFWSOYNTAYMXEHRN','EAISNORTLMDLRFCHVPBQVGZXJKP'))\n",
    "tradtxt2"
   ]
  },
  {
   "cell_type": "markdown",
   "metadata": {},
   "source": [
    "En se référent uniquement au tableau de fréquence des caractères, nous n'arrivions pas à une traduction convenable.\n",
    "En effet, les fréquences théoriques n'étant pas les mêmes que celles du texte, nous avons du deviner des substitutions et avons obtenu le message ci-dessus.\n",
    "D'après le texte, les noms des fichiers sont chiffrés avec les mêmes substitutions. Cela confirme donc notre hypothèse selon laquelle \"txt\" est chiffré par \"ded\"."
   ]
  },
  {
   "cell_type": "markdown",
   "metadata": {},
   "source": [
    "### Déchiffrement des noms de dossiers et de fichiers\n",
    "Puisque nous savons désormais comment substituer les lettres, nous avons écrit notre méthode pour l'appliquer à tous les noms de dossiers et de fichiers."
   ]
  },
  {
   "cell_type": "code",
   "execution_count": 211,
   "metadata": {},
   "outputs": [],
   "source": [
    "def dechiffrementParSubs(msg):\n",
    "    return nettoie(msg).translate(str.maketrans('LQJKBGFDCPZCFWSOYNTAYMXEHRN','EAISNORTLMDLRFCHVPBQVGZXJKP'))"
   ]
  },
  {
   "cell_type": "code",
   "execution_count": 216,
   "metadata": {},
   "outputs": [
    {
     "name": "stdout",
     "output_type": "stream",
     "text": [
      "\n",
      "Noms des repertoires : \n",
      "TXT\n",
      "IMG\n",
      "SND\n",
      "BIB\n",
      "\n",
      "Fichiers du répertoire ded : \n",
      "ENGRENAGE\n",
      "MONOALPHA\n",
      "VIGENERE\n",
      "\n",
      "Fichiers du répertoire jpm : \n",
      "LETTRES\n",
      "STEGANO\n",
      "ENGRENAGE\n",
      "ECOUTE\n",
      "AUTOCLAVE\n",
      "\n",
      "Fichiers du répertoire kbz : \n",
      "ECOUTEMP\n",
      "\n",
      "Fichiers du répertoire tjt : \n",
      "INDEXHTML\n",
      "CLASSICHTML\n",
      "BIBJPG\n",
      "\n",
      "Fichiers FLQZPL : \n",
      "README\n"
     ]
    }
   ],
   "source": [
    "print(\"\\nNoms des repertoires : \")\n",
    "print(dechiffrementParSubs(\"ded\"))\n",
    "print(dechiffrementParSubs(\"jpm\"))\n",
    "print(dechiffrementParSubs(\"kbz\"))\n",
    "print(dechiffrementParSubs(\"tjt\"))\n",
    "\n",
    "print(\"\\nFichiers du répertoire ded : \")\n",
    "print(dechiffrementParSubs(\"lbmflbqml\"))\n",
    "print(dechiffrementParSubs(\"pgbgqcnoq\"))\n",
    "print(dechiffrementParSubs(\"yjmlblfl\"))\n",
    "\n",
    "print(\"\\nFichiers du répertoire jpm : \")\n",
    "print(dechiffrementParSubs(\"clddflk\"))\n",
    "print(dechiffrementParSubs(\"kdlmqbg\"))\n",
    "print(dechiffrementParSubs(\"lbmflbqml\"))\n",
    "print(dechiffrementParSubs(\"lsgudl\"))\n",
    "print(dechiffrementParSubs(\"qudgscqyl\"))\n",
    "\n",
    "print(\"\\nFichiers du répertoire kbz : \")\n",
    "print(dechiffrementParSubs(\"lsgudlpn\"))\n",
    "\n",
    "print(\"\\nFichiers du répertoire tjt : \")\n",
    "print(dechiffrementParSubs(\"jbzleodpc\"))\n",
    "print(dechiffrementParSubs(\"scqkkjsodpc\"))\n",
    "print(dechiffrementParSubs(\"tjthnm\"))\n",
    "print(\"\\nFichiers FLQZPL : \")\n",
    "print(dechiffrementParSubs(\"FLQZPL\"))"
   ]
  },
  {
   "cell_type": "markdown",
   "metadata": {},
   "source": [
    "### Texte 3\n",
    "A la vue de la taille du texte, nous avons directement essayé la méthode déchiffrementVigenere."
   ]
  },
  {
   "cell_type": "code",
   "execution_count": 119,
   "metadata": {},
   "outputs": [],
   "source": [
    "txt3 = \"\"\"MFHD QBCL CYDN ZPOO AZJL QCBF TPDQ CXOL SKZX MZJA RYAC ESOT CNRG EDCO KDLE NCUG \n",
    "ROLD PPYL DVAV MQCG BYHK PXRS MFCJ DQXO RGMO OQBJ LCQH OFOQ CCNR GEDC OKDL EFMH \n",
    "ATVC SMVO LQRY ELNR XOSZ SRLZ OKEL LNYA NJDP PCRD BFDC WRPO QSJL ZMTP LSBD PLEB \n",
    "DASS DEPP WCMR OOTH EPXC QCOO LDSQ MFZR PKSZ TLEA NSWO SQQW KKDS DOAN SWOJ HZCO \n",
    "CSNF BCDL EBCK CDDP NASO CRBP CYTJ PCCS BLEJ MCDO RKCD ZCTN WSCQ QBEC KJPK PQMD \n",
    "OQDH ZECS YYDM SCYL PTQB ECRB PDMT PDDY MRZD CMJZ XERA TBAT GECC SBTF GRCP DPDS \n",
    "YSRR YYCA DQDO JDQR VYTO FOQE GWOR RBPC CRCL EVPS TZYQ DZSQ RCAO PCCY DRNS EKAN \n",
    "SACM TQEO PQCW ORDA PXCR RBES MPFS QRCL ENZP PCQD SIAS HAZE PACP XNZQ DKLS JPCP \n",
    "NQPK SWBF VGSO FSJM YABC ROFO NZQN BCTQ PORR GWYL ZNAB MBFP NSAM CNMM TZSR KYCS \n",
    "THCC OPZJ PXRH CAKP CCDS JNRD NCIM YMQB MFFP HPLZ CHLP NCRC DWMH PPCS MNPE BDQL \n",
    "LJDC ENCL MFCQ DKLS QCYY CJZQ LSQN LOOQ OJFS CREC YQRG PNCS MCBC MRDC MTBL SLRN \n",
    "WEQK MFBB DCEZ JTQC KNHB POJK CWKG RQPO LESJ KLSS YOPN QPOQ NSEO PQYT XCPS TBCL \n",
    "MYDC BYPD JZCY PJZO FOQB JLSP DQLP JDSC NFDP MOBZ LDVY UYWV CDAP DRDT LVJD CDOR \n",
    "DLOD MTRP ELHC WKPF COEL DJTO SDYF XCKG PECD ROOK HCPX RQCO OQBM WVGM CDKP QMYN \n",
    "GDQP DZZQ DOQB MFBM MLPO QCCN RCMC DNCQ YMVC RCEN CAMF VCZS ILGD LBEC EJPE PHCL \n",
    "ENQG YDCL NDOJ KCPC RCSY KQOC NDYT QEOP DCEQ PZTP OROP PXBO YCPM HQFX AZPL MRDP \n",
    "PNCS PTCR DQDO JGCC LCKY COTD RLFC BSYO KNLZ DMMG POEZ JPKA DJWO BDQP KSWB ZBKZ \n",
    "LEOQ NLJC CMRX OKDB LXQK CDLC ZSIT MTPD VYLC YKAD BFXA KGXK RQSO OCSD CYGC JPMG \n",
    "DJJC CLZW ONKS DNMT VBEC KYEO PQCT VJDL GOJN NAOB DQZX QNSC SPDF FWGC CTVC RRWO \n",
    "KNSG OKDL EVYF PLMC DRWK TNJF ZRDB PMCO YJCY FCEB YMOF SJKC PDAG YDDC OSTC OTYY \n",
    "NTHC YDJG GGOP HJDO KDJP KJZR PBPD BLXQ TLPK NOYC OLBC OOAG YZCJ DQMB MTGW VYQB \n",
    "DIBD TTOL MCYD COYT CCSR PXYB CDKS WTLZ CTPD LJZL NRCR CEVC FCCO QPST PJNR EKGD \n",
    "LEZY QJPC KZRT XQSG PNCR QFBJ DDZX BCCW KTZJ WOCR SNMC CCYD BDQY EYFC DYNZ OFOQ \n",
    "DROO QNKM BCRK ZXRZ EYOQ LMFF YMRP COTS YCMK CTVP NSRO CSDC YGCB TCQH NPVC MRPW \n",
    "CMRP DJDJ ZXEC CDCC MRTO PRBF RYTR AKWR JPZY RQLX RLYE SLZJ LMPT AZWK DJPC KXQE \n",
    "SOTC DNYM QWOS QQCK THQD OKDL ECKZ PNRC QQFB JDQY ECDQ NOQS YTXQ HOFK NQCD KTNG \n",
    "CVYH QDOY RYRK SBFP VCOJ LDCZ SMYG RCOE FZSE NSPS PVJD ASKR DYFN CAMF BJDK ZXRC \n",
    "MXSL DJPF YKBP VYRY ZXCK JPOR ZQLN PNGE OANS DCCX YGOA RYGS CHJW OCFJ TCCK YCST \n",
    "HCCO DKCI SZKC AKQR CPXR QCWO ZNGD MFDQ YEYT AZEA GYYD CSJL MMSC OOHT JTOL ZSWO \n",
    "TZLE BCMA ZXRQ CDEP RYCS TDMN MGCC YDYK CWOQ UGWV YFCD NCCM XBCL WPDB DECO SWOF \n",
    "SQDR ZEAG CYDQ DNLB CFPP EVCC XKVD WDEP LCFC CZRE OGMR PXRQ CLER QCDR YLCL EVAJ \n",
    "ZDRH QLEA QCFH BDQN YJKG YOQN SOBC RQPC QTPW OQGY FDCR RPBP DQME PDWW KANR PWYW \n",
    "CJCS QTLS QDCE LSQC JOLU YFHC STLL YHEY OPKC DLCK JPCN QYTB GDQO OTZS NYSK CFBQ \n",
    "CYYC ADNP DGST TVJZ EPNC CMXB CLWD SRTC LWMH LDNC SPZS QKGP ECRC YKTZ JOOL DSQM \n",
    "FZRP KSDR LMGM OWSC TCDO LZKZ XRCC GKSB MFVC TPDE LDDT VJDL LASH RGOP RJLX MTBP \n",
    "CRHL POYK CISQ SCYM CKYA VSRQ TXET JTOP DCWV CMYT CQZG EZYT TCOH ZABE CRMF TYBO \n",
    "FYRC YCMQ NLAO PDMC SEHL LSPD BFFG KJLQ CCCN ODEM YNQD LNRY LNLQ LDTT FYHR OELF \n",
    "YRXY FCZE NDRT DCEC CWCD RXOL ZGEV CRAS OTZS IKSK YMYS QQPC TNGD SLRC EFMH QTXC \n",
    "RJPD CMYT OLSN ZEPA MYMF QCES CMCE FYHJ WKLS YWYS UPLQ CRYQ OKLC PDYH RZBG FGYK \n",
    "GQCO OTNS ERMM TTVJ ZEPC GSSP KSMC WSCT CPDB DKTO YTLZ BBNS PCRC COYK QCXI NZPO \n",
    "OJZJ PCZN GDNC FPPE VZWL XRMM XSQZ ZPVJ DMFJ YAGW VCSC WVCQ CNER ZSYO COMB ECPS \n",
    "ZXLD QLEP ZGES LCGB ECQJ PCSQ LZWB DPZW CDMY KNOC WKGS YTXQ HAPE VPST ORZG PXRZ \n",
    "JWOQ ZPZW CNSL FYHC YDDZ GEAS DJBE CFPL XBOC WOPH LLQC DRWY LOCF DAQM TBCP STCY \n",
    "ACWV CFYR XYRM YXML BPBM LCPO LOPP XYMR WOQB MBEG KJPC CSJP LMTP OYLT LOOQ DQQB \n",
    "CQCD ORZG EMSQ CFXY TRCO ANSG BCTP FXBD QPCL DTPE VBFL BNDL ESCQ CWVC ZTLS RCCU \n",
    "KBNL YOYR MYWY QGEB MHQP XDZL ECHZ ABEC RMFT YBOF OKHL NKRG CCSL DCET CZLO KLRJ \n",
    "PMFH DQBC LCYD NZPI YPZS EYAK YGOS MKLC OTCP CRBM YCRH RFOC MAZX AZRP XYMR WKAK \n",
    "CPDJ DKPC QZEP OLBJ LSPO STCA DKLC OTCP CRBM XLGM CLEK DQDK EDCY MJZG CZYQ SYHM \n",
    "QZTD YAGE \n",
    "\"\"\""
   ]
  },
  {
   "cell_type": "code",
   "execution_count": 121,
   "metadata": {},
   "outputs": [
    {
     "data": {
      "text/plain": [
       "[('KYZYL',\n",
       "  'CHIFFREMENTPARDECALAGECHIFFREMENTMONOALPHABETIQUECHIFFREMENTDEVIGENEREONEXPLOREVRAIMENTTOUSLESMETHODESCLASSIQUESDECHIFFREMENTVOICILETOKENRTNUNOTMEUAUGBBPMTBNOAPDLERESTEDUTEXTEESTLAPOURAIDERAUDECHIFFREMENTDEVIGENEREDENEUFCHATEAUAVAUCOULEURSLAMEUSECOULELIBREETPUREENTRELESTROCHEESDESAULESETDAULNESETLESPEUPLIERSQUELLEARROSESEJOUETANTOTENBRUSQUESDETOURSTANTOTENLONGSCIRCUITSETDIVISEETREUNITSANSCESSELESGLAUQUESFILETSDESESEAUXQUIPARFOISSEPERDENTTOUTACOUPSOUSTERRELETECENESTQUUNRUISSEAUPARESSEUXQUICOURBEENPASSANTLESROSEAUXDULITQUILNAPRESQUEPASCREUSEETSILONAPPROCHEDUBORDONVOITLARIVIERERALENTIEPARDESILOTSDEJONCSCOUVRIRAPEINEDESESMOIRESUNPEUDESABLEETDEMOUSSEMAISDANSLASAISONDESPLUIESGROSSIEDETORRENTSSOUDAINSPLUSLOURDEETPLUSRAPIDEELLELAISSEENFUYANTUNEROSEESOUTERRAINEQUIREMONTECAETLAENFLAQUESCLAIRESAFLEURDHERBEDANSLAVALLEECETTEVALLEESETENDTOUTEUNIELARGEDUNELIEUEAUNELIEUEETDEMIEENTREDESCOLLINESARRONDIESETBASSESCOURONNEESDECHENESDERABLESETDEBOULEAUXBIENQUEFLEURIEAUPRINTEMPSELLEESTDUNASPECTAUSTEREETGRAVEETPRENDPARFOISUNCARACTEREDETRISTESSELHERBELAREVETAVECUNEMONOTONIEEGALEACELLEDESEAUXDORMANTESONYSENTMEMEDANSLESBEAUXJOURSLAMENACEDUNCLIMATRUDEETFROIDLECIELYSEMBLEPLUSDOUXQUELATERREILLENVELOPPEDESONSOURIREHUMIDEILESTLEMOUVEMENTLAGRACEETLAVOLUPTEDECEPAYSAGETRANQUILLEETCHASTEPUISQUANDVIENTLHIVERILSEMELEALATERREDANSUNEAPPARENCEDECHAOSLESBROUILLARDSYDEVIENNENTEPAISETTENACESAUXVAPEURSBLANCHESETLEGERESQUIFLOTTAIENTPARLESMATINSTIEDESSURLEFONDDELAVALLEESUCCEDENTDESNUAGESOPAQUESETDESOMBRESMONTAGNESMOUVANTESQUUNSOLEILROUGEETFROIDDISSIPELENTEMENTETLELONGDESSENTIERSDUHAUTPAYSLEPASSANTMATINALACRUCOMMELESMYSTIQUESDANSLEURSRAVISSEMENTSMARCHERSURLESNUEESCESTAINSIQUAPRESAVOIRLAISSEASAGAUCHELEPLATEAUBOISEDUHAUTDUQUELLECHATEAUDEBOURLEMONTDOMINELEVALDELASAONELLEETASADROITECOUSSEYAVECSAVIEILLEEGLISELARIVIEREFLEXIBLEPASSEENTRELEBOISCHESNUAUCOUCHANTETLACOTEDEJULIENAULEVANTRENCONTRESURSARIVEOCCIDENTALELESVILLAGESDEDOMREMYETDEGREUXQUISETOUCHENTSEPAREGREUXDEMAXEYSURMEUSEATTEINTENTREAUTRESHAMEAUXBLOTTISAUCREUXDESCOLLINESOUDRESSESSURLESHAUTESTERRESBUREYLACOTEMAXEYSURVAISEETBUREYENVAUXETVABAIGNERLESBELLESPRAIRIESDEVAUCOULEURSDANSCEPETITVILLAGEDEDOMREMYSITUEAMOINSDETROISLIEUESENAVALDENEUFCHATEAUETACINQLIEUESENAMONTDEVAUCOULEURSUNEFILLENAQUITVERSLANOUDESTINEEALEXISTENCELAPLUSSINGULIEREELLENAISSAITPAUVREJACQUESOUJACQUOTDARCSONPEREORIGINAIREDUVILLAGEDECEFFONDSENCHAMPAGNEVIVAITDUNGAGNAGEOUPETITEFERMEETMENAITLESCHEVAUXAULABOURSESVOISINSETVOISINESLETENAIENTPOURBONCHRETIENETVAILLANTALOUVRAGESAFEMMEETAITORIGINAIREDEVOUTHONVILLAGESITUEAUNELIEUEETDEMIEAUNORDOUESTDEDOMREMYPARDELALESBOISDEGREUXAYANTNOMISABELLEOUZABILLETELLERECUTAUNEEPOQUEQUONNESAURAITINDIQUERLESURNOMDEROMEEONAPPELAITAINSICEUXQUIETAIENTALLESAROMEOUAVAIENTFAITQUELQUEGRANDPELERINAGEETLONPEUTCROIREQUISABELLEGAGNASONNOMDEROMEEENPRENANTLESCOQUILLESETLEBOURDONUNDESESFRERESETAITCUREUNAUTRECOUVREURUNDESESNEVEUXCHARPENTIERELLEAVAITDEJADONNEASONMARITROISENFANTSJACQUESOUJACQUEMINCATHERINEETJEANDANSLECHIFFREMENTPARXORAUTOCLAVEUNMASQUEESTCONSTITUEENCONCATENANTLACLEETLEMESSAGEENCLAIRPUISCEMASQUEESTCOMBINEAUMESSAGEENCLAIRPARUNXORBITABIT')]"
      ]
     },
     "execution_count": 121,
     "metadata": {},
     "output_type": "execute_result"
    }
   ],
   "source": [
    "dechiffrementVigenere(txt3)"
   ]
  },
  {
   "cell_type": "code",
   "execution_count": null,
   "metadata": {},
   "outputs": [],
   "source": []
  }
 ],
 "metadata": {
  "kernelspec": {
   "display_name": "Python 3",
   "language": "python",
   "name": "python3"
  },
  "language_info": {
   "codemirror_mode": {
    "name": "ipython",
    "version": 3
   },
   "file_extension": ".py",
   "mimetype": "text/x-python",
   "name": "python",
   "nbconvert_exporter": "python",
   "pygments_lexer": "ipython3",
   "version": "3.7.3"
  }
 },
 "nbformat": 4,
 "nbformat_minor": 2
}
